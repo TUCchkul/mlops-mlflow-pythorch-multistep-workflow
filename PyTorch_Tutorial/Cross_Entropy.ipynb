{
 "cells": [
  {
   "cell_type": "code",
   "execution_count": 1,
   "id": "452bc77b",
   "metadata": {},
   "outputs": [],
   "source": [
    "import torch\n",
    "import torch.nn as nn\n",
    "import numpy as np"
   ]
  },
  {
   "cell_type": "code",
   "execution_count": 3,
   "id": "d7104e27",
   "metadata": {},
   "outputs": [],
   "source": [
    "def cross_entropy(actual, predicted):\n",
    "    loss=np.sum(actual * np.log(predicted))\n",
    "    print(f'Cross_entropy_Loss:', {loss})\n",
    "    return loss"
   ]
  },
  {
   "cell_type": "code",
   "execution_count": 4,
   "id": "4c5b27e4",
   "metadata": {},
   "outputs": [
    {
     "name": "stdout",
     "output_type": "stream",
     "text": [
      "Cross_entropy_Loss: {-0.35667494393873245}\n",
      "Cross_entropy_Loss: {-2.3025850929940455}\n",
      "Loss1 numpy: -0.35667\n",
      "Loss2 numpy: -2.30259\n"
     ]
    }
   ],
   "source": [
    "Y=np.array([1,0,0])\n",
    "# y_pred has probabilities\n",
    "y_pred_good=np.array([0.7,0.2,0.1])\n",
    "y_pred_bad=np.array([0.1,0.3,0.6])\n",
    "l1=cross_entropy(Y, y_pred_good)\n",
    "l2=cross_entropy(Y, y_pred_bad)\n",
    "print(f'Loss1 numpy: {l1:.5f}')\n",
    "print(f'Loss2 numpy: {l2:.5f}')"
   ]
  },
  {
   "cell_type": "code",
   "execution_count": null,
   "id": "50e31ed3",
   "metadata": {},
   "outputs": [],
   "source": []
  }
 ],
 "metadata": {
  "kernelspec": {
   "display_name": "Python 3 (ipykernel)",
   "language": "python",
   "name": "python3"
  },
  "language_info": {
   "codemirror_mode": {
    "name": "ipython",
    "version": 3
   },
   "file_extension": ".py",
   "mimetype": "text/x-python",
   "name": "python",
   "nbconvert_exporter": "python",
   "pygments_lexer": "ipython3",
   "version": "3.7.13"
  }
 },
 "nbformat": 4,
 "nbformat_minor": 5
}
