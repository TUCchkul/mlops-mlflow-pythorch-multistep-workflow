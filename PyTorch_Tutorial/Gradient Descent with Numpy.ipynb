{
 "cells": [
  {
   "cell_type": "code",
   "execution_count": 1,
   "id": "448774a3",
   "metadata": {},
   "outputs": [],
   "source": [
    "import numpy as np\n"
   ]
  },
  {
   "cell_type": "code",
   "execution_count": 4,
   "id": "ba36044b",
   "metadata": {},
   "outputs": [
    {
     "name": "stdout",
     "output_type": "stream",
     "text": [
      "Prediction before training: f(5) =0.000\n",
      "Y_pred: [0. 0. 0. 0.]\n",
      "Loss: 30.0\n",
      "Gradient: -120.0\n",
      "epoch 1: w =1.200, loss = 30.00000000\n",
      "Y_pred: [1.2       2.4       3.6000001 4.8      ]\n",
      "Loss: 4.799999237060547\n",
      "Gradient: -48.0\n",
      "epoch 2: w =1.680, loss = 4.79999924\n",
      "Y_pred: [1.68 3.36 5.04 6.72]\n",
      "Loss: 0.7680001854896545\n",
      "Gradient: -19.200002670288086\n",
      "epoch 3: w =1.872, loss = 0.76800019\n",
      "Y_pred: [1.872 3.744 5.616 7.488]\n",
      "Loss: 0.1228799968957901\n",
      "Gradient: -7.679999828338623\n",
      "epoch 4: w =1.949, loss = 0.12288000\n",
      "Y_pred: [1.9488 3.8976 5.8464 7.7952]\n",
      "Loss: 0.019660834223031998\n",
      "Gradient: -3.072002649307251\n",
      "epoch 5: w =1.980, loss = 0.01966083\n",
      "Y_pred: [1.9795201 3.9590402 5.9385605 7.9180803]\n",
      "Loss: 0.003145695198327303\n",
      "Gradient: -1.2287936210632324\n",
      "epoch 6: w =1.992, loss = 0.00314570\n",
      "Y_pred: [1.9918079 3.9836159 5.975424  7.9672318]\n",
      "Loss: 0.000503324146848172\n",
      "Gradient: -0.49152374267578125\n",
      "epoch 7: w =1.997, loss = 0.00050332\n",
      "Y_pred: [1.9967232 3.9934464 5.9901695 7.9868927]\n",
      "Loss: 8.053186320466921e-05\n",
      "Gradient: -0.1966094970703125\n",
      "epoch 8: w =1.999, loss = 0.00008053\n",
      "Y_pred: [1.9986893 3.9973786 5.996068  7.994757 ]\n",
      "Loss: 1.2884394891443662e-05\n",
      "Gradient: -0.07864165306091309\n",
      "epoch 9: w =1.999, loss = 0.00001288\n",
      "Y_pred: [1.9994757 3.9989514 5.9984274 7.997903 ]\n",
      "Loss: 2.0613531432900345e-06\n",
      "Gradient: -0.03145551681518555\n",
      "epoch 10: w =2.000, loss = 0.00000206\n",
      "Prediction after training: f(5) =9.999\n"
     ]
    }
   ],
   "source": [
    "#f=w * x\n",
    "# f =2 * x\n",
    "X=np.array([1,2,3,4], dtype=np.float32)\n",
    "Y=np.array([2,4,6,8], dtype=np.float32)\n",
    "w=0.0\n",
    "# calculate model predictions\n",
    "def forward(X):\n",
    "    return w*X\n",
    "#Loss\n",
    "def loss(y, y_predicted):\n",
    "    return ((y_predicted-y)**2).mean()\n",
    "# gradient\n",
    "#MSE=1/N * (w*x - y)**2\n",
    "#dj/dw=1/N 2x (w*x -y)\n",
    "\n",
    "def gradient(x,y,y_predicted):\n",
    "    return np.dot(2*x, y_predicted-y).mean()\n",
    "print(f'Prediction before training: f(5) ={forward(5):.3f}')\n",
    "\n",
    "# Training\n",
    "learning_rate=0.01\n",
    "n_iters=10\n",
    "for epoch in range(n_iters):\n",
    "    #prediction=forward pass\n",
    "    y_pred=forward(X)\n",
    "    print(f'Y_pred: {y_pred}')\n",
    "    #loss\n",
    "    l=loss(Y,y_pred)\n",
    "    print(f'Loss: {l}')\n",
    "    #gradient\n",
    "    dw=gradient(X,Y, y_pred)\n",
    "    print(f'Gradient: {dw}')\n",
    "    #update the weights\n",
    "    w -=learning_rate * dw\n",
    "    \n",
    "    if epoch %1==0:\n",
    "        print(f'epoch {epoch+1}: w ={w:.3f}, loss = {l:.8f}')\n",
    "print(f'Prediction after training: f(5) ={forward(5):.3f}')"
   ]
  },
  {
   "cell_type": "code",
   "execution_count": null,
   "id": "a16120d4",
   "metadata": {},
   "outputs": [],
   "source": []
  }
 ],
 "metadata": {
  "kernelspec": {
   "display_name": "Python 3 (ipykernel)",
   "language": "python",
   "name": "python3"
  },
  "language_info": {
   "codemirror_mode": {
    "name": "ipython",
    "version": 3
   },
   "file_extension": ".py",
   "mimetype": "text/x-python",
   "name": "python",
   "nbconvert_exporter": "python",
   "pygments_lexer": "ipython3",
   "version": "3.7.13"
  }
 },
 "nbformat": 4,
 "nbformat_minor": 5
}
