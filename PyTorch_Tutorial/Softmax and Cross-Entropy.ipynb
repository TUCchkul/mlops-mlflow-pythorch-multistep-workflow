{
 "cells": [
  {
   "cell_type": "code",
   "execution_count": 1,
   "id": "02153245",
   "metadata": {},
   "outputs": [],
   "source": [
    "import torch\n",
    "import torch.nn as nn\n",
    "import numpy as np"
   ]
  },
  {
   "cell_type": "code",
   "execution_count": 6,
   "id": "fe1a9bbc",
   "metadata": {},
   "outputs": [
    {
     "name": "stdout",
     "output_type": "stream",
     "text": [
      "Softmax using numpy: [0.65900114 0.24243297 0.09856589]\n"
     ]
    }
   ],
   "source": [
    "def softmax(x):\n",
    "    return np.exp(x)/np.sum(np.exp(x), axis=0)\n",
    "x=np.array([2.0,1.0,0.1])\n",
    "outputs=softmax(x)\n",
    "print(f'Softmax using numpy: {outputs}')"
   ]
  },
  {
   "cell_type": "code",
   "execution_count": 5,
   "id": "c953e6c4",
   "metadata": {},
   "outputs": [
    {
     "name": "stdout",
     "output_type": "stream",
     "text": [
      "Softmax using pytorch: tensor([0.6590, 0.2424, 0.0986])\n"
     ]
    }
   ],
   "source": [
    "# Softmax using Pytorch\n",
    "x=torch.tensor([2.0,1.0,0.1])\n",
    "soft_outputs=torch.softmax(x, dim=0)\n",
    "print(f'Softmax using pytorch: {soft_outputs}')"
   ]
  },
  {
   "cell_type": "code",
   "execution_count": null,
   "id": "5a7ac26b",
   "metadata": {},
   "outputs": [],
   "source": []
  }
 ],
 "metadata": {
  "kernelspec": {
   "display_name": "Python 3 (ipykernel)",
   "language": "python",
   "name": "python3"
  },
  "language_info": {
   "codemirror_mode": {
    "name": "ipython",
    "version": 3
   },
   "file_extension": ".py",
   "mimetype": "text/x-python",
   "name": "python",
   "nbconvert_exporter": "python",
   "pygments_lexer": "ipython3",
   "version": "3.7.13"
  }
 },
 "nbformat": 4,
 "nbformat_minor": 5
}
