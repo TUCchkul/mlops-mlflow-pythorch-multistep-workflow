{
 "cells": [
  {
   "cell_type": "code",
   "execution_count": 1,
   "id": "e54db4cb",
   "metadata": {},
   "outputs": [],
   "source": [
    "import torch\n",
    "import numpy as np\n",
    "import torch.nn as nn\n"
   ]
  },
  {
   "cell_type": "code",
   "execution_count": 3,
   "id": "5f49ebae",
   "metadata": {},
   "outputs": [
    {
     "name": "stdout",
     "output_type": "stream",
     "text": [
      "0.4170299470424652\n",
      "1.840616226196289\n"
     ]
    }
   ],
   "source": [
    "loss=nn.CrossEntropyLoss()\n",
    "Y=torch.tensor([0])\n",
    "#nsamples x nclasses=1x3\n",
    "y_pred_good=torch.tensor([[2.0,1.0,0.1]])\n",
    "y_pred_bad=torch.tensor([[0.5,2.0,0.3]])\n",
    "l1=loss(y_pred_good, Y)\n",
    "l2=loss(y_pred_bad,Y)\n",
    "print(l1.item())\n",
    "print(l2.item())"
   ]
  },
  {
   "cell_type": "code",
   "execution_count": 4,
   "id": "8cdd4361",
   "metadata": {},
   "outputs": [
    {
     "name": "stdout",
     "output_type": "stream",
     "text": [
      "tensor([0])\n",
      "tensor([1])\n"
     ]
    }
   ],
   "source": [
    "_,predictions1=torch.max(y_pred_good,1)\n",
    "_,predictions2=torch.max(y_pred_bad,1)\n",
    "print(predictions1)\n",
    "print(predictions2)"
   ]
  },
  {
   "cell_type": "code",
   "execution_count": 5,
   "id": "2ced832f",
   "metadata": {},
   "outputs": [],
   "source": [
    "# Loss allows pytorch in multiple samples"
   ]
  },
  {
   "cell_type": "code",
   "execution_count": 6,
   "id": "0bfaed3e",
   "metadata": {},
   "outputs": [
    {
     "name": "stdout",
     "output_type": "stream",
     "text": [
      "0.4579531252384186\n",
      "1.4524747133255005\n",
      "tensor([2, 0, 1])\n",
      "tensor([1, 2, 1])\n"
     ]
    }
   ],
   "source": [
    "#3 possible classes\n",
    "Y=torch.tensor([2,0,1])\n",
    "#nsamoples x nclasses=3x3\n",
    "y_pred_good=torch.tensor([[2.0,1.0,2.5],[2.0,1.0,0.1],[2.0,3.0,0.1]])\n",
    "y_pred_bad=torch.tensor([[0.5,2.0,0.5],[0.1,1.0,2.1],[0.1,3.0,0.1]])\n",
    "l1=loss(y_pred_good, Y)\n",
    "l2=loss(y_pred_bad,Y)\n",
    "print(l1.item())\n",
    "print(l2.item())\n",
    "_,predictions1=torch.max(y_pred_good,1)\n",
    "_,predictions2=torch.max(y_pred_bad,1)\n",
    "print(predictions1)\n",
    "print(predictions2)"
   ]
  },
  {
   "cell_type": "code",
   "execution_count": null,
   "id": "23ba1565",
   "metadata": {},
   "outputs": [],
   "source": []
  }
 ],
 "metadata": {
  "kernelspec": {
   "display_name": "Python 3 (ipykernel)",
   "language": "python",
   "name": "python3"
  },
  "language_info": {
   "codemirror_mode": {
    "name": "ipython",
    "version": 3
   },
   "file_extension": ".py",
   "mimetype": "text/x-python",
   "name": "python",
   "nbconvert_exporter": "python",
   "pygments_lexer": "ipython3",
   "version": "3.7.13"
  }
 },
 "nbformat": 4,
 "nbformat_minor": 5
}
