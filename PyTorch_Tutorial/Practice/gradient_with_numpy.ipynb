{
 "cells": [
  {
   "cell_type": "code",
   "execution_count": 1,
   "id": "d74fe499",
   "metadata": {},
   "outputs": [],
   "source": [
    "import numpy as np"
   ]
  },
  {
   "cell_type": "code",
   "execution_count": 2,
   "id": "cae6ceb1",
   "metadata": {},
   "outputs": [
    {
     "data": {
      "text/plain": [
       "array([1., 2., 3., 4.], dtype=float32)"
      ]
     },
     "execution_count": 2,
     "metadata": {},
     "output_type": "execute_result"
    }
   ],
   "source": [
    "# f = w * x\n",
    "# f= 2 * x\n",
    "x=np.array([1,2,3,4], dtype=np.float32)\n"
   ]
  },
  {
   "cell_type": "code",
   "execution_count": 3,
   "id": "66e6dfb4",
   "metadata": {},
   "outputs": [
    {
     "data": {
      "text/plain": [
       "array([2., 4., 6., 8.], dtype=float32)"
      ]
     },
     "execution_count": 3,
     "metadata": {},
     "output_type": "execute_result"
    }
   ],
   "source": [
    "y=np.array([2,4,6,8], dtype=np.float32)\n",
    "y"
   ]
  },
  {
   "cell_type": "code",
   "execution_count": 6,
   "id": "c1a196f0",
   "metadata": {},
   "outputs": [
    {
     "name": "stdout",
     "output_type": "stream",
     "text": [
      "Prediction before traonong: f(5)= 0.000\n",
      "y_predicted: [0. 0. 0. 0.]\n",
      "Loss : 30.0\n",
      "Gradient: -120.0\n",
      "Epoch: 1: w = 1.200, loss=30.00000000\n",
      "y_predicted: [1.2       2.4       3.6000001 4.8      ]\n",
      "Loss : 4.799999237060547\n",
      "Gradient: -48.0\n",
      "y_predicted: [1.68 3.36 5.04 6.72]\n",
      "Loss : 0.7680001854896545\n",
      "Gradient: -19.200002670288086\n",
      "Epoch: 3: w = 1.872, loss=0.76800019\n",
      "y_predicted: [1.872 3.744 5.616 7.488]\n",
      "Loss : 0.1228799968957901\n",
      "Gradient: -7.679999828338623\n",
      "y_predicted: [1.9488 3.8976 5.8464 7.7952]\n",
      "Loss : 0.019660834223031998\n",
      "Gradient: -3.072002649307251\n",
      "Epoch: 5: w = 1.980, loss=0.01966083\n",
      "y_predicted: [1.9795201 3.9590402 5.9385605 7.9180803]\n",
      "Loss : 0.003145695198327303\n",
      "Gradient: -1.2287936210632324\n",
      "y_predicted: [1.9918079 3.9836159 5.975424  7.9672318]\n",
      "Loss : 0.000503324146848172\n",
      "Gradient: -0.49152374267578125\n",
      "Epoch: 7: w = 1.997, loss=0.00050332\n",
      "y_predicted: [1.9967232 3.9934464 5.9901695 7.9868927]\n",
      "Loss : 8.053186320466921e-05\n",
      "Gradient: -0.1966094970703125\n",
      "y_predicted: [1.9986893 3.9973786 5.996068  7.994757 ]\n",
      "Loss : 1.2884394891443662e-05\n",
      "Gradient: -0.07864165306091309\n",
      "Epoch: 9: w = 1.999, loss=0.00001288\n",
      "y_predicted: [1.9994757 3.9989514 5.9984274 7.997903 ]\n",
      "Loss : 2.0613531432900345e-06\n",
      "Gradient: -0.03145551681518555\n",
      "y_predicted: [1.9997903 3.9995806 5.999371  7.9991612]\n",
      "Loss : 3.297340072094812e-07\n",
      "Gradient: -0.012580633163452148\n",
      "Epoch: 11: w = 2.000, loss=0.00000033\n",
      "y_predicted: [1.9999161 3.9998322 5.999748  7.9996643]\n",
      "Loss : 5.282345227897167e-08\n",
      "Gradient: -0.005035400390625\n",
      "y_predicted: [1.9999665 3.999933  5.9998994 7.999866 ]\n",
      "Loss : 8.421768171729127e-09\n",
      "Gradient: -0.0020105838775634766\n",
      "Epoch: 13: w = 2.000, loss=0.00000001\n",
      "y_predicted: [1.9999865 3.999973  5.9999595 7.999946 ]\n",
      "Loss : 1.3633503215260134e-09\n",
      "Gradient: -0.0008089542388916016\n",
      "y_predicted: [1.9999946 3.9999893 5.999984  7.9999785]\n",
      "Loss : 2.1679014139408537e-10\n",
      "Gradient: -0.00032258033752441406\n",
      "Epoch: 15: w = 2.000, loss=0.00000000\n",
      "y_predicted: [1.9999979 3.9999957 5.9999933 7.9999914]\n",
      "Loss : 3.531397396727698e-11\n",
      "Gradient: -0.00013017654418945312\n",
      "y_predicted: [1.9999992 3.9999983 5.9999976 7.9999967]\n",
      "Loss : 5.076827847005916e-12\n",
      "Gradient: -4.935264587402344e-05\n",
      "Epoch: 17: w = 2.000, loss=0.00000000\n",
      "y_predicted: [1.9999996 3.9999993 5.999999  7.9999986]\n",
      "Loss : 8.988365607365267e-13\n",
      "Gradient: -2.0742416381835938e-05\n",
      "y_predicted: [1.9999999 3.9999998 5.9999995 7.9999995]\n",
      "Loss : 1.3145040611561853e-13\n",
      "Gradient: -7.867813110351562e-06\n",
      "Epoch: 19: w = 2.000, loss=0.00000000\n",
      "y_predicted: [2. 4. 6. 8.]\n",
      "Loss : 0.0\n",
      "Gradient: 0.0\n",
      "Prediction after traonong: f(5)= 10.000\n"
     ]
    }
   ],
   "source": [
    "X=np.array([1,2,3,4], dtype=np.float32)\n",
    "Y=np.array([2,4,6,8], dtype=np.float32)\n",
    "w=0.0\n",
    "# model prediction\n",
    "def forward(x):\n",
    "    return w * x\n",
    "# loss=MSE\n",
    "def loss(y, y_predicted):\n",
    "    return ((y_predicted-y)**2).mean()\n",
    "    \n",
    "# gradient\n",
    "#MSE=1/N*(w*x-y)**2\n",
    "#dj/dw=1/N 2x*(wx-y)\n",
    "def gradient(x,y,y_predicted):\n",
    "    return np.dot(2*x, y_predicted-y).mean()\n",
    "print(f'Prediction before traonong: f(5)= {forward(5):.3f}')\n",
    "\n",
    "#Training\n",
    "learning_rate=0.01\n",
    "n_iters=20\n",
    "for epoch in range(n_iters):\n",
    "    y_pred=forward(X)\n",
    "    print(f'y_predicted: {y_pred}')\n",
    "    los=loss(Y,y_pred)\n",
    "    print(f'Loss : {los}')\n",
    "    #grdient\n",
    "    dw=gradient(X,Y, y_pred)\n",
    "    print(f'Gradient: {dw}')\n",
    "    # update the weights\n",
    "    w -=learning_rate * dw\n",
    "    if epoch %2==0:\n",
    "        print(f'Epoch: {epoch+1}: w = {w:.3f}, loss={los:.8f}')\n",
    "print(f'Prediction after traonong: f(5)= {forward(5):.3f}')\n"
   ]
  },
  {
   "cell_type": "code",
   "execution_count": null,
   "id": "068782b2",
   "metadata": {},
   "outputs": [],
   "source": []
  }
 ],
 "metadata": {
  "kernelspec": {
   "display_name": "Python 3 (ipykernel)",
   "language": "python",
   "name": "python3"
  },
  "language_info": {
   "codemirror_mode": {
    "name": "ipython",
    "version": 3
   },
   "file_extension": ".py",
   "mimetype": "text/x-python",
   "name": "python",
   "nbconvert_exporter": "python",
   "pygments_lexer": "ipython3",
   "version": "3.7.13"
  }
 },
 "nbformat": 4,
 "nbformat_minor": 5
}
