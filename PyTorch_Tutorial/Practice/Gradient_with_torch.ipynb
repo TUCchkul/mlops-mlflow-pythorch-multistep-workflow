{
 "cells": [
  {
   "cell_type": "code",
   "execution_count": 1,
   "id": "3b32a201",
   "metadata": {},
   "outputs": [],
   "source": [
    "import torch\n"
   ]
  },
  {
   "cell_type": "code",
   "execution_count": 4,
   "id": "3b02c8d3",
   "metadata": {},
   "outputs": [
    {
     "name": "stdout",
     "output_type": "stream",
     "text": [
      "Prediction before training: f(5) = 0.000\n",
      "epoch 1 : w = 0.300, loss :  30.00000000\n",
      "epoch 3 : w = 0.772, loss :  15.66018772\n",
      "epoch 5 : w = 1.113, loss :  8.17471695\n",
      "epoch 7 : w = 1.359, loss :  4.26725292\n",
      "epoch 9 : w = 1.537, loss :  2.22753215\n",
      "epoch 11 : w = 1.665, loss :  1.16278565\n",
      "epoch 13 : w = 1.758, loss :  0.60698116\n",
      "epoch 15 : w = 1.825, loss :  0.31684780\n",
      "epoch 17 : w = 1.874, loss :  0.16539653\n",
      "epoch 19 : w = 1.909, loss :  0.08633806\n",
      "epoch 21 : w = 1.934, loss :  0.04506890\n",
      "epoch 23 : w = 1.952, loss :  0.02352631\n",
      "epoch 25 : w = 1.966, loss :  0.01228084\n",
      "epoch 27 : w = 1.975, loss :  0.00641066\n",
      "epoch 29 : w = 1.982, loss :  0.00334642\n",
      "epoch 31 : w = 1.987, loss :  0.00174685\n",
      "epoch 33 : w = 1.991, loss :  0.00091188\n",
      "epoch 35 : w = 1.993, loss :  0.00047601\n",
      "epoch 37 : w = 1.995, loss :  0.00024848\n",
      "epoch 39 : w = 1.996, loss :  0.00012971\n",
      "epoch 41 : w = 1.997, loss :  0.00006770\n",
      "epoch 43 : w = 1.998, loss :  0.00003534\n",
      "epoch 45 : w = 1.999, loss :  0.00001845\n",
      "epoch 47 : w = 1.999, loss :  0.00000963\n",
      "epoch 49 : w = 1.999, loss :  0.00000503\n",
      "epoch 51 : w = 1.999, loss :  0.00000262\n",
      "epoch 53 : w = 2.000, loss :  0.00000137\n",
      "epoch 55 : w = 2.000, loss :  0.00000071\n",
      "epoch 57 : w = 2.000, loss :  0.00000037\n",
      "epoch 59 : w = 2.000, loss :  0.00000019\n",
      "epoch 61 : w = 2.000, loss :  0.00000010\n",
      "epoch 63 : w = 2.000, loss :  0.00000005\n",
      "epoch 65 : w = 2.000, loss :  0.00000003\n",
      "epoch 67 : w = 2.000, loss :  0.00000001\n",
      "epoch 69 : w = 2.000, loss :  0.00000001\n",
      "epoch 71 : w = 2.000, loss :  0.00000000\n",
      "epoch 73 : w = 2.000, loss :  0.00000000\n",
      "epoch 75 : w = 2.000, loss :  0.00000000\n",
      "epoch 77 : w = 2.000, loss :  0.00000000\n",
      "epoch 79 : w = 2.000, loss :  0.00000000\n",
      "Prediction after training: f(5) = 10.000\n"
     ]
    }
   ],
   "source": [
    "X=torch.tensor([1,2,3,4], dtype=torch.float32)\n",
    "Y=torch.tensor([2,4,6,8], dtype=torch.float32)\n",
    "w=torch.tensor(0.0, dtype=torch.float32, requires_grad=True)\n",
    "\n",
    "# model prediction\n",
    "def forward(x):\n",
    "    return w*x\n",
    "#loss=MSE\n",
    "def loss(y, y_predicted):\n",
    "    return ((y_predicted-y)**2).mean()\n",
    "print(f'Prediction before training: f(5) = {forward(5):.3f}')\n",
    "\n",
    "#Training\n",
    "learning_rate=0.01\n",
    "n_iters=80\n",
    "for epoch in range(n_iters):\n",
    "    # prediction=forward pass\n",
    "    y_pred=forward(X)\n",
    "    #Loss\n",
    "    los=loss(Y, y_pred)\n",
    "    # gradient=Backward pass\n",
    "    los.backward()# calculate gradient of loss with respect to w dl/dw\n",
    "    \n",
    "    #update weights\n",
    "    with torch.no_grad():\n",
    "        w -=learning_rate * w.grad\n",
    "    # zero_gradient\n",
    "    w.grad.zero_()\n",
    "    if epoch%2==0:\n",
    "        print(f'epoch {epoch+1} : w = {w:.3f}, loss : {los: .8f}')\n",
    "print(f'Prediction after training: f(5) = {forward(5):.3f}')\n",
    "        \n",
    "        \n",
    "    "
   ]
  },
  {
   "cell_type": "code",
   "execution_count": null,
   "id": "a02fe732",
   "metadata": {},
   "outputs": [],
   "source": []
  }
 ],
 "metadata": {
  "kernelspec": {
   "display_name": "Python 3 (ipykernel)",
   "language": "python",
   "name": "python3"
  },
  "language_info": {
   "codemirror_mode": {
    "name": "ipython",
    "version": 3
   },
   "file_extension": ".py",
   "mimetype": "text/x-python",
   "name": "python",
   "nbconvert_exporter": "python",
   "pygments_lexer": "ipython3",
   "version": "3.7.13"
  }
 },
 "nbformat": 4,
 "nbformat_minor": 5
}
