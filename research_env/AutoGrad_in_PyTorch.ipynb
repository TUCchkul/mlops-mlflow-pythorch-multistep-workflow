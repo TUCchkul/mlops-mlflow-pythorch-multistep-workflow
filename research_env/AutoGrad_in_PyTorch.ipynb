{
 "cells": [
  {
   "cell_type": "code",
   "execution_count": 1,
   "id": "ca8f7a0c",
   "metadata": {},
   "outputs": [
    {
     "name": "stderr",
     "output_type": "stream",
     "text": [
      "D:\\AIOPS\\mlops-mlflow-pythorch-multistep-workflow\\env\\lib\\site-packages\\tqdm\\auto.py:22: TqdmWarning: IProgress not found. Please update jupyter and ipywidgets. See https://ipywidgets.readthedocs.io/en/stable/user_install.html\n",
      "  from .autonotebook import tqdm as notebook_tqdm\n"
     ]
    }
   ],
   "source": [
    "# Pytorch has a capability of automatic  gradient calculation !\n",
    "# In this Notebook We will learn each and every thing about autograd !\n",
    "\n",
    "#################### Auto Grad ######################################\n",
    "# Why we require auto grad !\n",
    "\"\"\" \n",
    "When we do backpropragation we need to calculate gradient of loss function w.r.t weigth \n",
    "If we do gradient calculation with hands it will take time and it wont be dynamic as then we would have to write  \n",
    "each derivative manually. To resolve this issue pytorch has a capability to calculate derivative of function automatically\n",
    "which is also known as Auto Grad.  \n",
    "\n",
    "\"\"\"\n",
    "import torch \n",
    "from torch.autograd import grad \n",
    "import torch.nn as nn"
   ]
  },
  {
   "cell_type": "markdown",
   "id": "a56bb797",
   "metadata": {},
   "source": [
    "# A simplified model of a PyTorch tensor is as an object containing the following properties:\n",
    "1. data — a self-reference (per the above).\n",
    "2. required_grad — whether or not this tensor is/should be connected to the computational graph.\n",
    "3. grad — if required_grad is true, this prop will be a sub-tensor that collects the gradients against this tensor accumulated during backwards().\n",
    "4. grad_fn — This is a reference to the most recent operation which generated this tensor. PyTorch performs automatic differentiation by looking through the grad_fn list.\n",
    "5. is_leaf — Whether or not this is a leaf node."
   ]
  },
  {
   "cell_type": "markdown",
   "id": "991ebbe9",
   "metadata": {},
   "source": [
    "# Simple Derivative"
   ]
  },
  {
   "cell_type": "code",
   "execution_count": 2,
   "id": "5c78ccef",
   "metadata": {},
   "outputs": [
    {
     "data": {
      "text/plain": [
       "tensor(5., requires_grad=True)"
      ]
     },
     "execution_count": 2,
     "metadata": {},
     "output_type": "execute_result"
    }
   ],
   "source": [
    "# Lets Take an simple Example \n",
    "x=torch.tensor(5.0, requires_grad=True)\n",
    "x"
   ]
  },
  {
   "cell_type": "code",
   "execution_count": 3,
   "id": "83ae7849",
   "metadata": {},
   "outputs": [
    {
     "data": {
      "text/plain": [
       "tensor(25., grad_fn=<PowBackward0>)"
      ]
     },
     "execution_count": 3,
     "metadata": {},
     "output_type": "execute_result"
    }
   ],
   "source": [
    "y=x**2\n",
    "y"
   ]
  },
  {
   "cell_type": "code",
   "execution_count": 4,
   "id": "b10da32f",
   "metadata": {},
   "outputs": [
    {
     "data": {
      "text/plain": [
       "tensor(10.)"
      ]
     },
     "execution_count": 4,
     "metadata": {},
     "output_type": "execute_result"
    }
   ],
   "source": [
    "# Lets calculate Gradient by hand \n",
    "#  dy/dx = 2*x --- > 2x5 = 10\n",
    "y.backward()\n",
    "x.grad"
   ]
  },
  {
   "cell_type": "code",
   "execution_count": null,
   "id": "7ed8412e",
   "metadata": {},
   "outputs": [],
   "source": []
  }
 ],
 "metadata": {
  "kernelspec": {
   "display_name": "Python 3 (ipykernel)",
   "language": "python",
   "name": "python3"
  },
  "language_info": {
   "codemirror_mode": {
    "name": "ipython",
    "version": 3
   },
   "file_extension": ".py",
   "mimetype": "text/x-python",
   "name": "python",
   "nbconvert_exporter": "python",
   "pygments_lexer": "ipython3",
   "version": "3.7.13"
  }
 },
 "nbformat": 4,
 "nbformat_minor": 5
}
