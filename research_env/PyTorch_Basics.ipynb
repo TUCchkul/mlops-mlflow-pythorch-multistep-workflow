{
 "cells": [
  {
   "cell_type": "code",
   "execution_count": 1,
   "id": "d11563bd",
   "metadata": {},
   "outputs": [
    {
     "name": "stderr",
     "output_type": "stream",
     "text": [
      "D:\\AIOPS\\mlops-mlflow-pythorch-multistep-workflow\\env\\lib\\site-packages\\tqdm\\auto.py:22: TqdmWarning: IProgress not found. Please update jupyter and ipywidgets. See https://ipywidgets.readthedocs.io/en/stable/user_install.html\n",
      "  from .autonotebook import tqdm as notebook_tqdm\n"
     ]
    }
   ],
   "source": [
    "import torch\n",
    "import numpy as np"
   ]
  },
  {
   "cell_type": "markdown",
   "id": "966bc8fc",
   "metadata": {},
   "source": [
    "# Tensor initialization\n",
    "   1. Dtype\n",
    "   2. Device - cpu or gpu\n",
    "   3. requires _ grad --> gradient decent , during back prop\n",
    "\n",
    " This line repesents that if your system has gpu it will be used else cpu \n",
    " Makes your code work in both condition"
   ]
  },
  {
   "cell_type": "code",
   "execution_count": 2,
   "id": "05e55e56",
   "metadata": {},
   "outputs": [],
   "source": [
    "device = 'cuda' if torch.cuda.is_available() else 'cpu'"
   ]
  },
  {
   "cell_type": "code",
   "execution_count": 3,
   "id": "6ec1b38c",
   "metadata": {},
   "outputs": [
    {
     "data": {
      "text/plain": [
       "'cpu'"
      ]
     },
     "execution_count": 3,
     "metadata": {},
     "output_type": "execute_result"
    }
   ],
   "source": [
    "device"
   ]
  },
  {
   "cell_type": "code",
   "execution_count": 4,
   "id": "f48a6ccc",
   "metadata": {},
   "outputs": [
    {
     "name": "stdout",
     "output_type": "stream",
     "text": [
      "tensor([[1., 2., 3.],\n",
      "        [5., 6., 7.]], requires_grad=True)\n"
     ]
    }
   ],
   "source": [
    "tensor=torch.tensor([[1,2,3],[5,6,7]], \n",
    "                   dtype=torch.float,\n",
    "                   device=device, requires_grad=True)\n",
    "print(tensor)"
   ]
  },
  {
   "cell_type": "code",
   "execution_count": 5,
   "id": "2977c6dc",
   "metadata": {},
   "outputs": [
    {
     "name": "stdout",
     "output_type": "stream",
     "text": [
      "torch.float32\n"
     ]
    }
   ],
   "source": [
    "print(tensor.dtype)"
   ]
  },
  {
   "cell_type": "code",
   "execution_count": 6,
   "id": "9097ba8d",
   "metadata": {},
   "outputs": [
    {
     "name": "stdout",
     "output_type": "stream",
     "text": [
      "cpu\n"
     ]
    }
   ],
   "source": [
    "print(tensor.device)"
   ]
  },
  {
   "cell_type": "code",
   "execution_count": 7,
   "id": "99a0d9a1",
   "metadata": {},
   "outputs": [
    {
     "name": "stdout",
     "output_type": "stream",
     "text": [
      "torch.Size([2, 3])\n"
     ]
    }
   ],
   "source": [
    "print(tensor.shape)"
   ]
  },
  {
   "cell_type": "code",
   "execution_count": 8,
   "id": "1ac515ce",
   "metadata": {},
   "outputs": [
    {
     "name": "stdout",
     "output_type": "stream",
     "text": [
      "True\n"
     ]
    }
   ],
   "source": [
    "print(tensor.requires_grad)"
   ]
  },
  {
   "cell_type": "markdown",
   "id": "b133e044",
   "metadata": {},
   "source": [
    "# Other initialization in Tensor"
   ]
  },
  {
   "cell_type": "code",
   "execution_count": 10,
   "id": "e317f229",
   "metadata": {},
   "outputs": [
    {
     "name": "stdout",
     "output_type": "stream",
     "text": [
      "tensor([[2.6947e-09, 1.0324e-05, 3.3061e+21],\n",
      "        [6.8997e-07, 4.2115e-11, 7.1450e+31]])\n"
     ]
    }
   ],
   "source": [
    "# empty will create space of size with random values \n",
    "x=torch.empty(size=(2,3))\n",
    "print(x)"
   ]
  },
  {
   "cell_type": "code",
   "execution_count": 12,
   "id": "39defc28",
   "metadata": {},
   "outputs": [
    {
     "name": "stdout",
     "output_type": "stream",
     "text": [
      "tensor([[0., 0., 0.],\n",
      "        [0., 0., 0.]])\n"
     ]
    }
   ],
   "source": [
    "# Zeros\n",
    "x=torch.zeros(size=(2,3))\n",
    "print(x)"
   ]
  },
  {
   "cell_type": "code",
   "execution_count": 13,
   "id": "ef63c5ab",
   "metadata": {},
   "outputs": [
    {
     "name": "stdout",
     "output_type": "stream",
     "text": [
      "tensor([[1., 1.],\n",
      "        [1., 1.],\n",
      "        [1., 1.],\n",
      "        [1., 1.]])\n"
     ]
    }
   ],
   "source": [
    "#ones\n",
    "x=torch.ones(size=(4,2))\n",
    "print(x)"
   ]
  },
  {
   "cell_type": "code",
   "execution_count": 15,
   "id": "dc349523",
   "metadata": {},
   "outputs": [
    {
     "name": "stdout",
     "output_type": "stream",
     "text": [
      "tensor([[ 9.4348e-01,  4.5572e-01,  1.2830e+00, -6.4295e-02, -3.2388e-01,\n",
      "          5.3008e-01,  1.2825e-01],\n",
      "        [-8.1734e-01, -1.3577e+00,  1.5795e+00, -4.6170e-01,  6.7409e-02,\n",
      "          3.8714e-01, -8.1798e-01],\n",
      "        [ 1.7716e+00,  4.3377e-01,  2.6834e+00, -2.2035e-03,  4.1423e-02,\n",
      "         -1.4987e-01, -1.4235e+00]])\n"
     ]
    }
   ],
   "source": [
    "# Random\n",
    "x=torch.randn(size=(3,7))\n",
    "print(x)"
   ]
  },
  {
   "cell_type": "code",
   "execution_count": 16,
   "id": "9f300cb3",
   "metadata": {},
   "outputs": [
    {
     "name": "stdout",
     "output_type": "stream",
     "text": [
      "tensor([[1., 0., 0., 0.],\n",
      "        [0., 1., 0., 0.],\n",
      "        [0., 0., 1., 0.],\n",
      "        [0., 0., 0., 1.]])\n"
     ]
    }
   ],
   "source": [
    "# eye identity matrix\n",
    "x=torch.eye(4)\n",
    "print(x)"
   ]
  },
  {
   "cell_type": "code",
   "execution_count": 17,
   "id": "53d81b77",
   "metadata": {},
   "outputs": [
    {
     "name": "stdout",
     "output_type": "stream",
     "text": [
      "tensor([0, 1, 2, 3, 4])\n"
     ]
    }
   ],
   "source": [
    "# eye identity matrix\n",
    "x=torch.arange(start=0, end=5, step=1)\n",
    "print(x)"
   ]
  },
  {
   "cell_type": "code",
   "execution_count": 19,
   "id": "3045ffce",
   "metadata": {},
   "outputs": [
    {
     "name": "stdout",
     "output_type": "stream",
     "text": [
      "tensor([ 1.0000,  1.9000,  2.8000,  3.7000,  4.6000,  5.5000,  6.4000,  7.3000,\n",
      "         8.2000,  9.1000, 10.0000])\n"
     ]
    }
   ],
   "source": [
    "# eye identity matrix\n",
    "x=torch.linspace(start=1, end=10,steps=11)\n",
    "print(x)"
   ]
  },
  {
   "cell_type": "code",
   "execution_count": 20,
   "id": "9e7c4497",
   "metadata": {},
   "outputs": [
    {
     "name": "stdout",
     "output_type": "stream",
     "text": [
      "tensor([[-0.2457, -2.6039,  0.9887],\n",
      "        [ 0.4046, -0.3039, -0.5894],\n",
      "        [-0.5229,  0.5263,  1.0422]])\n"
     ]
    }
   ],
   "source": [
    "# empty with normal and uniform \n",
    "x = torch.empty(size=(3,3)).normal_(mean=0,std=1)\n",
    "print(x)"
   ]
  },
  {
   "cell_type": "code",
   "execution_count": 21,
   "id": "d61871fe",
   "metadata": {},
   "outputs": [
    {
     "name": "stdout",
     "output_type": "stream",
     "text": [
      "tensor([[0.0046, 0.4571, 0.9282],\n",
      "        [0.6413, 0.9768, 0.4837],\n",
      "        [0.1036, 0.1844, 0.5124]])\n"
     ]
    }
   ],
   "source": [
    "x = torch.empty(size=(3,3)).uniform_()\n",
    "print(x)\n"
   ]
  },
  {
   "cell_type": "code",
   "execution_count": 22,
   "id": "f4e0d1c6",
   "metadata": {},
   "outputs": [
    {
     "name": "stdout",
     "output_type": "stream",
     "text": [
      "tensor([[1., 0., 0., 0., 0., 0., 0., 0., 0., 0.],\n",
      "        [0., 1., 0., 0., 0., 0., 0., 0., 0., 0.],\n",
      "        [0., 0., 1., 0., 0., 0., 0., 0., 0., 0.],\n",
      "        [0., 0., 0., 1., 0., 0., 0., 0., 0., 0.],\n",
      "        [0., 0., 0., 0., 1., 0., 0., 0., 0., 0.],\n",
      "        [0., 0., 0., 0., 0., 1., 0., 0., 0., 0.],\n",
      "        [0., 0., 0., 0., 0., 0., 1., 0., 0., 0.],\n",
      "        [0., 0., 0., 0., 0., 0., 0., 1., 0., 0.],\n",
      "        [0., 0., 0., 0., 0., 0., 0., 0., 1., 0.],\n",
      "        [0., 0., 0., 0., 0., 0., 0., 0., 0., 1.]])\n"
     ]
    }
   ],
   "source": [
    "# diagnal matrix \n",
    "x = torch.diag(torch.ones(10))\n",
    "print(x)"
   ]
  },
  {
   "cell_type": "markdown",
   "id": "2fd3e256",
   "metadata": {},
   "source": [
    "# How to convert tensor to different data types(int,float,double)"
   ]
  },
  {
   "cell_type": "code",
   "execution_count": 23,
   "id": "c0fc36c9",
   "metadata": {},
   "outputs": [
    {
     "name": "stdout",
     "output_type": "stream",
     "text": [
      "tensor([0, 1, 2, 3])\n"
     ]
    }
   ],
   "source": [
    "x=torch.arange(4)\n",
    "print(x)"
   ]
  },
  {
   "cell_type": "code",
   "execution_count": 24,
   "id": "730aa916",
   "metadata": {},
   "outputs": [
    {
     "name": "stdout",
     "output_type": "stream",
     "text": [
      "tensor([False,  True,  True,  True])\n"
     ]
    }
   ],
   "source": [
    "print(x.bool())"
   ]
  },
  {
   "cell_type": "code",
   "execution_count": 25,
   "id": "cf21e34c",
   "metadata": {},
   "outputs": [
    {
     "name": "stdout",
     "output_type": "stream",
     "text": [
      "tensor([0, 1, 2, 3], dtype=torch.int32)\n"
     ]
    }
   ],
   "source": [
    "print(x.int())"
   ]
  },
  {
   "cell_type": "code",
   "execution_count": 26,
   "id": "33cac4a1",
   "metadata": {},
   "outputs": [
    {
     "name": "stdout",
     "output_type": "stream",
     "text": [
      "tensor([0., 1., 2., 3.])\n"
     ]
    }
   ],
   "source": [
    "print(x.float())"
   ]
  },
  {
   "cell_type": "code",
   "execution_count": 27,
   "id": "52fb4cb3",
   "metadata": {},
   "outputs": [
    {
     "name": "stdout",
     "output_type": "stream",
     "text": [
      "tensor([0, 1, 2, 3])\n"
     ]
    }
   ],
   "source": [
    "print(x.long())"
   ]
  },
  {
   "cell_type": "code",
   "execution_count": 28,
   "id": "41498d85",
   "metadata": {},
   "outputs": [
    {
     "name": "stdout",
     "output_type": "stream",
     "text": [
      "tensor([0., 1., 2., 3.], dtype=torch.float16)\n"
     ]
    }
   ],
   "source": [
    "print(x.half())"
   ]
  },
  {
   "cell_type": "code",
   "execution_count": 29,
   "id": "30ac7c90",
   "metadata": {},
   "outputs": [
    {
     "name": "stdout",
     "output_type": "stream",
     "text": [
      "tensor([0, 1, 2, 3], dtype=torch.int16)\n"
     ]
    }
   ],
   "source": [
    "print(x.short())"
   ]
  },
  {
   "cell_type": "code",
   "execution_count": 30,
   "id": "b84d921c",
   "metadata": {},
   "outputs": [
    {
     "name": "stdout",
     "output_type": "stream",
     "text": [
      "tensor([0., 1., 2., 3.], dtype=torch.float64)\n"
     ]
    }
   ],
   "source": [
    "print(x.double())"
   ]
  },
  {
   "cell_type": "markdown",
   "id": "87ac753e",
   "metadata": {},
   "source": [
    "# How to convert from numpy to tensor"
   ]
  },
  {
   "cell_type": "code",
   "execution_count": 31,
   "id": "14db766f",
   "metadata": {},
   "outputs": [
    {
     "name": "stdout",
     "output_type": "stream",
     "text": [
      "[[1 2 3]\n",
      " [4 5 6]]\n",
      "tensor([[1, 2, 3],\n",
      "        [4, 5, 6]], dtype=torch.int32)\n"
     ]
    }
   ],
   "source": [
    "np_array=np.array([[1,2,3],[4,5,6]])\n",
    "print(np_array)\n",
    "tensor=torch.from_numpy(np_array)\n",
    "print(tensor)"
   ]
  },
  {
   "cell_type": "markdown",
   "id": "91edcdf1",
   "metadata": {},
   "source": [
    "# Tensor Maths or Arthmatic operations "
   ]
  },
  {
   "cell_type": "code",
   "execution_count": 33,
   "id": "73f068b3",
   "metadata": {},
   "outputs": [
    {
     "name": "stdout",
     "output_type": "stream",
     "text": [
      "tensor([10, 14, 18])\n"
     ]
    }
   ],
   "source": [
    "x=torch.arange(start=10,end=20, step=4)\n",
    "print(x)"
   ]
  },
  {
   "cell_type": "code",
   "execution_count": 34,
   "id": "c7ba4d70",
   "metadata": {},
   "outputs": [
    {
     "name": "stdout",
     "output_type": "stream",
     "text": [
      "tensor([ 5,  9, 13, 17])\n"
     ]
    }
   ],
   "source": [
    "y=torch.arange(start=5,end=20,step=4)\n",
    "print(y)"
   ]
  },
  {
   "cell_type": "code",
   "execution_count": 35,
   "id": "a91f5a6e",
   "metadata": {},
   "outputs": [
    {
     "ename": "RuntimeError",
     "evalue": "The size of tensor a (3) must match the size of tensor b (4) at non-singleton dimension 0",
     "output_type": "error",
     "traceback": [
      "\u001b[1;31m---------------------------------------------------------------------------\u001b[0m",
      "\u001b[1;31mRuntimeError\u001b[0m                              Traceback (most recent call last)",
      "\u001b[1;32m~\\AppData\\Local\\Temp\\ipykernel_3888\\1634172263.py\u001b[0m in \u001b[0;36m<module>\u001b[1;34m\u001b[0m\n\u001b[1;32m----> 1\u001b[1;33m \u001b[0mprint\u001b[0m\u001b[1;33m(\u001b[0m\u001b[1;34m'Add :'\u001b[0m\u001b[1;33m,\u001b[0m\u001b[0mx\u001b[0m\u001b[1;33m+\u001b[0m\u001b[0my\u001b[0m\u001b[1;33m)\u001b[0m\u001b[1;33m\u001b[0m\u001b[1;33m\u001b[0m\u001b[0m\n\u001b[0m",
      "\u001b[1;31mRuntimeError\u001b[0m: The size of tensor a (3) must match the size of tensor b (4) at non-singleton dimension 0"
     ]
    }
   ],
   "source": [
    "print('Add :',x+y)"
   ]
  },
  {
   "cell_type": "code",
   "execution_count": 36,
   "id": "76f16943",
   "metadata": {},
   "outputs": [
    {
     "name": "stdout",
     "output_type": "stream",
     "text": [
      "tensor([ 5,  9, 13])\n"
     ]
    }
   ],
   "source": [
    "y=torch.arange(start=5,end=15,step=4)\n",
    "print(y)"
   ]
  },
  {
   "cell_type": "code",
   "execution_count": 37,
   "id": "77181b7a",
   "metadata": {},
   "outputs": [
    {
     "name": "stdout",
     "output_type": "stream",
     "text": [
      "Add : tensor([15, 23, 31])\n"
     ]
    }
   ],
   "source": [
    "print('Add :',x+y)"
   ]
  },
  {
   "cell_type": "code",
   "execution_count": 39,
   "id": "50826c7b",
   "metadata": {},
   "outputs": [
    {
     "name": "stdout",
     "output_type": "stream",
     "text": [
      "tensor([3.3543e-24, 4.5911e-41, 0.0000e+00])\n"
     ]
    }
   ],
   "source": [
    "z1=torch.empty(3)\n",
    "print(z1)"
   ]
  },
  {
   "cell_type": "code",
   "execution_count": 40,
   "id": "21ce86be",
   "metadata": {},
   "outputs": [
    {
     "data": {
      "text/plain": [
       "tensor([15., 23., 31.])"
      ]
     },
     "execution_count": 40,
     "metadata": {},
     "output_type": "execute_result"
    }
   ],
   "source": [
    "torch.add(x,y,out=z1)"
   ]
  },
  {
   "cell_type": "code",
   "execution_count": 41,
   "id": "4fdeaf56",
   "metadata": {},
   "outputs": [
    {
     "name": "stdout",
     "output_type": "stream",
     "text": [
      "Using empty : tensor([15., 23., 31.])\n"
     ]
    }
   ],
   "source": [
    "print('Using empty :', z1)"
   ]
  },
  {
   "cell_type": "code",
   "execution_count": 42,
   "id": "7656b6c0",
   "metadata": {},
   "outputs": [
    {
     "name": "stdout",
     "output_type": "stream",
     "text": [
      "Direct: tensor([15, 23, 31])\n"
     ]
    }
   ],
   "source": [
    "print('Direct:', torch.add(x,y))"
   ]
  },
  {
   "cell_type": "code",
   "execution_count": 43,
   "id": "443f9eee",
   "metadata": {},
   "outputs": [
    {
     "name": "stdout",
     "output_type": "stream",
     "text": [
      "Subtract: tensor([5, 5, 5])\n"
     ]
    }
   ],
   "source": [
    "# Subtraction\n",
    "print('Subtract:', x-y)"
   ]
  },
  {
   "cell_type": "code",
   "execution_count": 44,
   "id": "594ada38",
   "metadata": {},
   "outputs": [
    {
     "name": "stdout",
     "output_type": "stream",
     "text": [
      "MUL : tensor([ 50, 126, 234])\n"
     ]
    }
   ],
   "source": [
    "# multiplication\n",
    "print('MUL :', x*y)"
   ]
  },
  {
   "cell_type": "code",
   "execution_count": 45,
   "id": "4c41a6b5",
   "metadata": {},
   "outputs": [
    {
     "name": "stdout",
     "output_type": "stream",
     "text": [
      "tensor([2.0000, 1.5556, 1.3846])\n"
     ]
    }
   ],
   "source": [
    "#division\n",
    "z=x/y\n",
    "print(z)"
   ]
  },
  {
   "cell_type": "code",
   "execution_count": 46,
   "id": "39e8824a",
   "metadata": {},
   "outputs": [
    {
     "name": "stdout",
     "output_type": "stream",
     "text": [
      "tensor([1., 1., 1.])\n"
     ]
    }
   ],
   "source": [
    "# --> Whenever we see operation having _ that means they are inplace\n",
    "# Inplace\n",
    "z=torch.ones(3)\n",
    "print(z)"
   ]
  },
  {
   "cell_type": "code",
   "execution_count": 47,
   "id": "0742d122",
   "metadata": {},
   "outputs": [
    {
     "data": {
      "text/plain": [
       "tensor([10, 14, 18])"
      ]
     },
     "execution_count": 47,
     "metadata": {},
     "output_type": "execute_result"
    }
   ],
   "source": [
    "x"
   ]
  },
  {
   "cell_type": "code",
   "execution_count": 48,
   "id": "4577f154",
   "metadata": {},
   "outputs": [
    {
     "data": {
      "text/plain": [
       "tensor([11., 15., 19.])"
      ]
     },
     "execution_count": 48,
     "metadata": {},
     "output_type": "execute_result"
    }
   ],
   "source": [
    "z.add_(x)"
   ]
  },
  {
   "cell_type": "code",
   "execution_count": 49,
   "id": "e8381ecf",
   "metadata": {},
   "outputs": [],
   "source": [
    "# way2 inplace\n",
    "z +=x"
   ]
  },
  {
   "cell_type": "code",
   "execution_count": 50,
   "id": "5f58bbf6",
   "metadata": {},
   "outputs": [
    {
     "data": {
      "text/plain": [
       "tensor([21., 29., 37.])"
      ]
     },
     "execution_count": 50,
     "metadata": {},
     "output_type": "execute_result"
    }
   ],
   "source": [
    "z"
   ]
  },
  {
   "cell_type": "code",
   "execution_count": 51,
   "id": "fa3f0cee",
   "metadata": {},
   "outputs": [
    {
     "name": "stdout",
     "output_type": "stream",
     "text": [
      "tensor([100, 196, 324])\n"
     ]
    }
   ],
   "source": [
    "# power, Exponential\n",
    "z=x.pow(2)\n",
    "print(z)"
   ]
  },
  {
   "cell_type": "code",
   "execution_count": 52,
   "id": "1e2cb14f",
   "metadata": {},
   "outputs": [
    {
     "data": {
      "text/plain": [
       "tensor([100, 196, 324])"
      ]
     },
     "execution_count": 52,
     "metadata": {},
     "output_type": "execute_result"
    }
   ],
   "source": [
    "z"
   ]
  },
  {
   "cell_type": "code",
   "execution_count": 53,
   "id": "9acf1466",
   "metadata": {},
   "outputs": [
    {
     "name": "stdout",
     "output_type": "stream",
     "text": [
      "tensor([100, 196, 324])\n"
     ]
    }
   ],
   "source": [
    "z=x**2\n",
    "print(z)"
   ]
  },
  {
   "cell_type": "code",
   "execution_count": 54,
   "id": "0d8c9163",
   "metadata": {},
   "outputs": [
    {
     "name": "stdout",
     "output_type": "stream",
     "text": [
      "tensor([True, True, True])\n"
     ]
    }
   ],
   "source": [
    "# Comparison\n",
    "z=x>0\n",
    "print(z)"
   ]
  },
  {
   "cell_type": "markdown",
   "id": "8b7be4ce",
   "metadata": {},
   "source": [
    "# Matrix Multiplication "
   ]
  },
  {
   "cell_type": "code",
   "execution_count": 55,
   "id": "577f1295",
   "metadata": {},
   "outputs": [
    {
     "name": "stdout",
     "output_type": "stream",
     "text": [
      "tensor([[0.6926, 0.9868, 0.3971, 0.4488, 0.0666],\n",
      "        [0.4658, 0.7878, 0.4612, 0.4798, 0.7404],\n",
      "        [0.3566, 0.8372, 0.2397, 0.4110, 0.5954]])\n"
     ]
    }
   ],
   "source": [
    "x1=torch.rand(size=(3,5))\n",
    "x2=torch.rand(size=(5,3))\n",
    "print(x1)"
   ]
  },
  {
   "cell_type": "code",
   "execution_count": 56,
   "id": "2776bccf",
   "metadata": {},
   "outputs": [
    {
     "name": "stdout",
     "output_type": "stream",
     "text": [
      "tensor([[0.5620, 0.7469, 0.5353],\n",
      "        [0.4062, 0.7903, 0.3590],\n",
      "        [0.7614, 0.0075, 0.5396],\n",
      "        [0.5145, 0.7942, 0.5731],\n",
      "        [0.8907, 0.8138, 0.2284]])\n"
     ]
    }
   ],
   "source": [
    "print(x2)"
   ]
  },
  {
   "cell_type": "code",
   "execution_count": 57,
   "id": "da863366",
   "metadata": {},
   "outputs": [
    {
     "data": {
      "text/plain": [
       "tensor([[1.3827, 1.7108, 1.2117],\n",
       "        [1.8394, 1.9576, 1.2251],\n",
       "        [1.4647, 1.7407, 0.9923]])"
      ]
     },
     "execution_count": 57,
     "metadata": {},
     "output_type": "execute_result"
    }
   ],
   "source": [
    "x1@x2"
   ]
  },
  {
   "cell_type": "code",
   "execution_count": 58,
   "id": "7d73ae60",
   "metadata": {},
   "outputs": [
    {
     "data": {
      "text/plain": [
       "tensor([[1.3827, 1.7108, 1.2117],\n",
       "        [1.8394, 1.9576, 1.2251],\n",
       "        [1.4647, 1.7407, 0.9923]])"
      ]
     },
     "execution_count": 58,
     "metadata": {},
     "output_type": "execute_result"
    }
   ],
   "source": [
    "x1.matmul(x2)"
   ]
  },
  {
   "cell_type": "markdown",
   "id": "aba65e9f",
   "metadata": {},
   "source": [
    "# Matrix exponential"
   ]
  },
  {
   "cell_type": "code",
   "execution_count": 64,
   "id": "67497cf3",
   "metadata": {},
   "outputs": [],
   "source": [
    "m1=torch.rand((5,5))\n",
    "#m1.matrix_exp(m1)"
   ]
  },
  {
   "cell_type": "code",
   "execution_count": 65,
   "id": "e0959be0",
   "metadata": {},
   "outputs": [
    {
     "data": {
      "text/plain": [
       "tensor([[0.4800, 0.0222, 0.7870, 0.5627, 0.1582],\n",
       "        [0.9058, 0.8002, 0.5355, 0.3941, 0.3549],\n",
       "        [0.5844, 0.3635, 0.2179, 0.5116, 0.9827],\n",
       "        [0.8300, 0.2613, 0.3675, 0.8447, 0.5469],\n",
       "        [0.5529, 0.2718, 0.7139, 0.3134, 0.6748]])"
      ]
     },
     "execution_count": 65,
     "metadata": {},
     "output_type": "execute_result"
    }
   ],
   "source": [
    "m1"
   ]
  },
  {
   "cell_type": "code",
   "execution_count": 60,
   "id": "05f75748",
   "metadata": {},
   "outputs": [
    {
     "data": {
      "text/plain": [
       "tensor([[2.3651, 1.6223, 1.2221, 1.7741, 1.1099],\n",
       "        [1.6292, 2.6772, 2.0198, 1.1039, 1.8609],\n",
       "        [1.2903, 1.6056, 2.6096, 0.8472, 0.9892],\n",
       "        [0.6599, 1.0219, 0.9116, 1.4685, 0.5803],\n",
       "        [1.0193, 1.9898, 1.9488, 0.9182, 2.0800]])"
      ]
     },
     "execution_count": 60,
     "metadata": {},
     "output_type": "execute_result"
    }
   ],
   "source": [
    "m1.matrix_exp()"
   ]
  },
  {
   "cell_type": "code",
   "execution_count": null,
   "id": "971503c5",
   "metadata": {},
   "outputs": [],
   "source": [
    "m1.matrix_power(3)"
   ]
  }
 ],
 "metadata": {
  "kernelspec": {
   "display_name": "Python 3 (ipykernel)",
   "language": "python",
   "name": "python3"
  },
  "language_info": {
   "codemirror_mode": {
    "name": "ipython",
    "version": 3
   },
   "file_extension": ".py",
   "mimetype": "text/x-python",
   "name": "python",
   "nbconvert_exporter": "python",
   "pygments_lexer": "ipython3",
   "version": "3.7.13"
  }
 },
 "nbformat": 4,
 "nbformat_minor": 5
}
