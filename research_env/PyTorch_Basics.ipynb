{
 "cells": [
  {
   "cell_type": "code",
   "execution_count": 1,
   "id": "84d3e879",
   "metadata": {},
   "outputs": [
    {
     "name": "stderr",
     "output_type": "stream",
     "text": [
      "D:\\AIOPS\\mlops-mlflow-pythorch-multistep-workflow\\env\\lib\\site-packages\\tqdm\\auto.py:22: TqdmWarning: IProgress not found. Please update jupyter and ipywidgets. See https://ipywidgets.readthedocs.io/en/stable/user_install.html\n",
      "  from .autonotebook import tqdm as notebook_tqdm\n"
     ]
    }
   ],
   "source": [
    "import torch\n",
    "import numpy as np"
   ]
  },
  {
   "cell_type": "markdown",
   "id": "f90e2a39",
   "metadata": {},
   "source": [
    "# Tensor initialization\n",
    "   1. Dtype\n",
    "   2. Device - cpu or gpu\n",
    "   3. requires _ grad --> gradient decent , during back prop\n",
    "\n",
    " This line repesents that if your system has gpu it will be used else cpu \n",
    " Makes your code work in both condition"
   ]
  },
  {
   "cell_type": "code",
   "execution_count": 2,
   "id": "2be41628",
   "metadata": {},
   "outputs": [],
   "source": [
    "device = 'cuda' if torch.cuda.is_available() else 'cpu'"
   ]
  },
  {
   "cell_type": "code",
   "execution_count": 3,
   "id": "cdc3df69",
   "metadata": {},
   "outputs": [
    {
     "data": {
      "text/plain": [
       "'cpu'"
      ]
     },
     "execution_count": 3,
     "metadata": {},
     "output_type": "execute_result"
    }
   ],
   "source": [
    "device"
   ]
  },
  {
   "cell_type": "code",
   "execution_count": 4,
   "id": "b2fcfeef",
   "metadata": {},
   "outputs": [
    {
     "name": "stdout",
     "output_type": "stream",
     "text": [
      "tensor([[1., 2., 3.],\n",
      "        [5., 6., 7.]], requires_grad=True)\n"
     ]
    }
   ],
   "source": [
    "tensor=torch.tensor([[1,2,3],[5,6,7]], \n",
    "                   dtype=torch.float,\n",
    "                   device=device, requires_grad=True)\n",
    "print(tensor)"
   ]
  },
  {
   "cell_type": "code",
   "execution_count": 5,
   "id": "7b09e7c3",
   "metadata": {},
   "outputs": [
    {
     "name": "stdout",
     "output_type": "stream",
     "text": [
      "torch.float32\n"
     ]
    }
   ],
   "source": [
    "print(tensor.dtype)"
   ]
  },
  {
   "cell_type": "code",
   "execution_count": 6,
   "id": "1f9fabc4",
   "metadata": {},
   "outputs": [
    {
     "name": "stdout",
     "output_type": "stream",
     "text": [
      "cpu\n"
     ]
    }
   ],
   "source": [
    "print(tensor.device)"
   ]
  },
  {
   "cell_type": "code",
   "execution_count": 7,
   "id": "0606991b",
   "metadata": {},
   "outputs": [
    {
     "name": "stdout",
     "output_type": "stream",
     "text": [
      "torch.Size([2, 3])\n"
     ]
    }
   ],
   "source": [
    "print(tensor.shape)"
   ]
  },
  {
   "cell_type": "code",
   "execution_count": 8,
   "id": "2dccee59",
   "metadata": {},
   "outputs": [
    {
     "name": "stdout",
     "output_type": "stream",
     "text": [
      "True\n"
     ]
    }
   ],
   "source": [
    "print(tensor.requires_grad)"
   ]
  },
  {
   "cell_type": "markdown",
   "id": "db69e904",
   "metadata": {},
   "source": [
    "# Other initialization in Tensor"
   ]
  },
  {
   "cell_type": "code",
   "execution_count": 10,
   "id": "cfef0b44",
   "metadata": {},
   "outputs": [
    {
     "name": "stdout",
     "output_type": "stream",
     "text": [
      "tensor([[2.6947e-09, 1.0324e-05, 3.3061e+21],\n",
      "        [6.8997e-07, 4.2115e-11, 7.1450e+31]])\n"
     ]
    }
   ],
   "source": [
    "# empty will create space of size with random values \n",
    "x=torch.empty(size=(2,3))\n",
    "print(x)"
   ]
  },
  {
   "cell_type": "code",
   "execution_count": 12,
   "id": "fdfdb5f3",
   "metadata": {},
   "outputs": [
    {
     "name": "stdout",
     "output_type": "stream",
     "text": [
      "tensor([[0., 0., 0.],\n",
      "        [0., 0., 0.]])\n"
     ]
    }
   ],
   "source": [
    "# Zeros\n",
    "x=torch.zeros(size=(2,3))\n",
    "print(x)"
   ]
  },
  {
   "cell_type": "code",
   "execution_count": 13,
   "id": "9438c67a",
   "metadata": {},
   "outputs": [
    {
     "name": "stdout",
     "output_type": "stream",
     "text": [
      "tensor([[1., 1.],\n",
      "        [1., 1.],\n",
      "        [1., 1.],\n",
      "        [1., 1.]])\n"
     ]
    }
   ],
   "source": [
    "#ones\n",
    "x=torch.ones(size=(4,2))\n",
    "print(x)"
   ]
  },
  {
   "cell_type": "code",
   "execution_count": 15,
   "id": "bcf0b0e1",
   "metadata": {},
   "outputs": [
    {
     "name": "stdout",
     "output_type": "stream",
     "text": [
      "tensor([[ 9.4348e-01,  4.5572e-01,  1.2830e+00, -6.4295e-02, -3.2388e-01,\n",
      "          5.3008e-01,  1.2825e-01],\n",
      "        [-8.1734e-01, -1.3577e+00,  1.5795e+00, -4.6170e-01,  6.7409e-02,\n",
      "          3.8714e-01, -8.1798e-01],\n",
      "        [ 1.7716e+00,  4.3377e-01,  2.6834e+00, -2.2035e-03,  4.1423e-02,\n",
      "         -1.4987e-01, -1.4235e+00]])\n"
     ]
    }
   ],
   "source": [
    "# Random\n",
    "x=torch.randn(size=(3,7))\n",
    "print(x)"
   ]
  },
  {
   "cell_type": "code",
   "execution_count": 16,
   "id": "1763b4b8",
   "metadata": {},
   "outputs": [
    {
     "name": "stdout",
     "output_type": "stream",
     "text": [
      "tensor([[1., 0., 0., 0.],\n",
      "        [0., 1., 0., 0.],\n",
      "        [0., 0., 1., 0.],\n",
      "        [0., 0., 0., 1.]])\n"
     ]
    }
   ],
   "source": [
    "# eye identity matrix\n",
    "x=torch.eye(4)\n",
    "print(x)"
   ]
  },
  {
   "cell_type": "code",
   "execution_count": 17,
   "id": "77f5a07d",
   "metadata": {},
   "outputs": [
    {
     "name": "stdout",
     "output_type": "stream",
     "text": [
      "tensor([0, 1, 2, 3, 4])\n"
     ]
    }
   ],
   "source": [
    "# eye identity matrix\n",
    "x=torch.arange(start=0, end=5, step=1)\n",
    "print(x)"
   ]
  },
  {
   "cell_type": "code",
   "execution_count": 19,
   "id": "25d572f3",
   "metadata": {},
   "outputs": [
    {
     "name": "stdout",
     "output_type": "stream",
     "text": [
      "tensor([ 1.0000,  1.9000,  2.8000,  3.7000,  4.6000,  5.5000,  6.4000,  7.3000,\n",
      "         8.2000,  9.1000, 10.0000])\n"
     ]
    }
   ],
   "source": [
    "# eye identity matrix\n",
    "x=torch.linspace(start=1, end=10,steps=11)\n",
    "print(x)"
   ]
  },
  {
   "cell_type": "code",
   "execution_count": 20,
   "id": "4be8cfa2",
   "metadata": {},
   "outputs": [
    {
     "name": "stdout",
     "output_type": "stream",
     "text": [
      "tensor([[-0.2457, -2.6039,  0.9887],\n",
      "        [ 0.4046, -0.3039, -0.5894],\n",
      "        [-0.5229,  0.5263,  1.0422]])\n"
     ]
    }
   ],
   "source": [
    "# empty with normal and uniform \n",
    "x = torch.empty(size=(3,3)).normal_(mean=0,std=1)\n",
    "print(x)"
   ]
  },
  {
   "cell_type": "code",
   "execution_count": 21,
   "id": "7dc6b379",
   "metadata": {},
   "outputs": [
    {
     "name": "stdout",
     "output_type": "stream",
     "text": [
      "tensor([[0.0046, 0.4571, 0.9282],\n",
      "        [0.6413, 0.9768, 0.4837],\n",
      "        [0.1036, 0.1844, 0.5124]])\n"
     ]
    }
   ],
   "source": [
    "x = torch.empty(size=(3,3)).uniform_()\n",
    "print(x)\n"
   ]
  },
  {
   "cell_type": "code",
   "execution_count": 22,
   "id": "3d5f0e6a",
   "metadata": {},
   "outputs": [
    {
     "name": "stdout",
     "output_type": "stream",
     "text": [
      "tensor([[1., 0., 0., 0., 0., 0., 0., 0., 0., 0.],\n",
      "        [0., 1., 0., 0., 0., 0., 0., 0., 0., 0.],\n",
      "        [0., 0., 1., 0., 0., 0., 0., 0., 0., 0.],\n",
      "        [0., 0., 0., 1., 0., 0., 0., 0., 0., 0.],\n",
      "        [0., 0., 0., 0., 1., 0., 0., 0., 0., 0.],\n",
      "        [0., 0., 0., 0., 0., 1., 0., 0., 0., 0.],\n",
      "        [0., 0., 0., 0., 0., 0., 1., 0., 0., 0.],\n",
      "        [0., 0., 0., 0., 0., 0., 0., 1., 0., 0.],\n",
      "        [0., 0., 0., 0., 0., 0., 0., 0., 1., 0.],\n",
      "        [0., 0., 0., 0., 0., 0., 0., 0., 0., 1.]])\n"
     ]
    }
   ],
   "source": [
    "# diagnal matrix \n",
    "x = torch.diag(torch.ones(10))\n",
    "print(x)"
   ]
  },
  {
   "cell_type": "markdown",
   "id": "0f016f57",
   "metadata": {},
   "source": [
    "# How to convert tensor to different data types(int,float,double)"
   ]
  },
  {
   "cell_type": "code",
   "execution_count": 23,
   "id": "778d4e83",
   "metadata": {},
   "outputs": [
    {
     "name": "stdout",
     "output_type": "stream",
     "text": [
      "tensor([0, 1, 2, 3])\n"
     ]
    }
   ],
   "source": [
    "x=torch.arange(4)\n",
    "print(x)"
   ]
  },
  {
   "cell_type": "code",
   "execution_count": 24,
   "id": "42c03568",
   "metadata": {},
   "outputs": [
    {
     "name": "stdout",
     "output_type": "stream",
     "text": [
      "tensor([False,  True,  True,  True])\n"
     ]
    }
   ],
   "source": [
    "print(x.bool())"
   ]
  },
  {
   "cell_type": "code",
   "execution_count": 25,
   "id": "c953ff33",
   "metadata": {},
   "outputs": [
    {
     "name": "stdout",
     "output_type": "stream",
     "text": [
      "tensor([0, 1, 2, 3], dtype=torch.int32)\n"
     ]
    }
   ],
   "source": [
    "print(x.int())"
   ]
  },
  {
   "cell_type": "code",
   "execution_count": 26,
   "id": "13af84ba",
   "metadata": {},
   "outputs": [
    {
     "name": "stdout",
     "output_type": "stream",
     "text": [
      "tensor([0., 1., 2., 3.])\n"
     ]
    }
   ],
   "source": [
    "print(x.float())"
   ]
  },
  {
   "cell_type": "code",
   "execution_count": 27,
   "id": "2471ebb9",
   "metadata": {},
   "outputs": [
    {
     "name": "stdout",
     "output_type": "stream",
     "text": [
      "tensor([0, 1, 2, 3])\n"
     ]
    }
   ],
   "source": [
    "print(x.long())"
   ]
  },
  {
   "cell_type": "code",
   "execution_count": 28,
   "id": "41c69996",
   "metadata": {},
   "outputs": [
    {
     "name": "stdout",
     "output_type": "stream",
     "text": [
      "tensor([0., 1., 2., 3.], dtype=torch.float16)\n"
     ]
    }
   ],
   "source": [
    "print(x.half())"
   ]
  },
  {
   "cell_type": "code",
   "execution_count": 29,
   "id": "8a071352",
   "metadata": {},
   "outputs": [
    {
     "name": "stdout",
     "output_type": "stream",
     "text": [
      "tensor([0, 1, 2, 3], dtype=torch.int16)\n"
     ]
    }
   ],
   "source": [
    "print(x.short())"
   ]
  },
  {
   "cell_type": "code",
   "execution_count": 30,
   "id": "dcaaeaa2",
   "metadata": {},
   "outputs": [
    {
     "name": "stdout",
     "output_type": "stream",
     "text": [
      "tensor([0., 1., 2., 3.], dtype=torch.float64)\n"
     ]
    }
   ],
   "source": [
    "print(x.double())"
   ]
  },
  {
   "cell_type": "markdown",
   "id": "ff8db5d3",
   "metadata": {},
   "source": [
    "# How to convert from numpy to tensor"
   ]
  },
  {
   "cell_type": "code",
   "execution_count": 31,
   "id": "39d33116",
   "metadata": {},
   "outputs": [
    {
     "name": "stdout",
     "output_type": "stream",
     "text": [
      "[[1 2 3]\n",
      " [4 5 6]]\n",
      "tensor([[1, 2, 3],\n",
      "        [4, 5, 6]], dtype=torch.int32)\n"
     ]
    }
   ],
   "source": [
    "np_array=np.array([[1,2,3],[4,5,6]])\n",
    "print(np_array)\n",
    "tensor=torch.from_numpy(np_array)\n",
    "print(tensor)"
   ]
  },
  {
   "cell_type": "markdown",
   "id": "7d202e18",
   "metadata": {},
   "source": [
    "# Tensor Maths or Arthmatic operations "
   ]
  },
  {
   "cell_type": "code",
   "execution_count": 33,
   "id": "9b0e63a9",
   "metadata": {},
   "outputs": [
    {
     "name": "stdout",
     "output_type": "stream",
     "text": [
      "tensor([10, 14, 18])\n"
     ]
    }
   ],
   "source": [
    "x=torch.arange(start=10,end=20, step=4)\n",
    "print(x)"
   ]
  },
  {
   "cell_type": "code",
   "execution_count": 34,
   "id": "349e1cae",
   "metadata": {},
   "outputs": [
    {
     "name": "stdout",
     "output_type": "stream",
     "text": [
      "tensor([ 5,  9, 13, 17])\n"
     ]
    }
   ],
   "source": [
    "y=torch.arange(start=5,end=20,step=4)\n",
    "print(y)"
   ]
  },
  {
   "cell_type": "code",
   "execution_count": 35,
   "id": "b78fa6e5",
   "metadata": {},
   "outputs": [
    {
     "ename": "RuntimeError",
     "evalue": "The size of tensor a (3) must match the size of tensor b (4) at non-singleton dimension 0",
     "output_type": "error",
     "traceback": [
      "\u001b[1;31m---------------------------------------------------------------------------\u001b[0m",
      "\u001b[1;31mRuntimeError\u001b[0m                              Traceback (most recent call last)",
      "\u001b[1;32m~\\AppData\\Local\\Temp\\ipykernel_3888\\1634172263.py\u001b[0m in \u001b[0;36m<module>\u001b[1;34m\u001b[0m\n\u001b[1;32m----> 1\u001b[1;33m \u001b[0mprint\u001b[0m\u001b[1;33m(\u001b[0m\u001b[1;34m'Add :'\u001b[0m\u001b[1;33m,\u001b[0m\u001b[0mx\u001b[0m\u001b[1;33m+\u001b[0m\u001b[0my\u001b[0m\u001b[1;33m)\u001b[0m\u001b[1;33m\u001b[0m\u001b[1;33m\u001b[0m\u001b[0m\n\u001b[0m",
      "\u001b[1;31mRuntimeError\u001b[0m: The size of tensor a (3) must match the size of tensor b (4) at non-singleton dimension 0"
     ]
    }
   ],
   "source": [
    "print('Add :',x+y)"
   ]
  },
  {
   "cell_type": "code",
   "execution_count": 36,
   "id": "b83d6a40",
   "metadata": {},
   "outputs": [
    {
     "name": "stdout",
     "output_type": "stream",
     "text": [
      "tensor([ 5,  9, 13])\n"
     ]
    }
   ],
   "source": [
    "y=torch.arange(start=5,end=15,step=4)\n",
    "print(y)"
   ]
  },
  {
   "cell_type": "code",
   "execution_count": 37,
   "id": "b233ad32",
   "metadata": {},
   "outputs": [
    {
     "name": "stdout",
     "output_type": "stream",
     "text": [
      "Add : tensor([15, 23, 31])\n"
     ]
    }
   ],
   "source": [
    "print('Add :',x+y)"
   ]
  },
  {
   "cell_type": "code",
   "execution_count": 39,
   "id": "9840f563",
   "metadata": {},
   "outputs": [
    {
     "name": "stdout",
     "output_type": "stream",
     "text": [
      "tensor([3.3543e-24, 4.5911e-41, 0.0000e+00])\n"
     ]
    }
   ],
   "source": [
    "z1=torch.empty(3)\n",
    "print(z1)"
   ]
  },
  {
   "cell_type": "code",
   "execution_count": 40,
   "id": "3835174a",
   "metadata": {},
   "outputs": [
    {
     "data": {
      "text/plain": [
       "tensor([15., 23., 31.])"
      ]
     },
     "execution_count": 40,
     "metadata": {},
     "output_type": "execute_result"
    }
   ],
   "source": [
    "torch.add(x,y,out=z1)"
   ]
  },
  {
   "cell_type": "code",
   "execution_count": 41,
   "id": "78e77df6",
   "metadata": {},
   "outputs": [
    {
     "name": "stdout",
     "output_type": "stream",
     "text": [
      "Using empty : tensor([15., 23., 31.])\n"
     ]
    }
   ],
   "source": [
    "print('Using empty :', z1)"
   ]
  },
  {
   "cell_type": "code",
   "execution_count": 42,
   "id": "7e8e41bc",
   "metadata": {},
   "outputs": [
    {
     "name": "stdout",
     "output_type": "stream",
     "text": [
      "Direct: tensor([15, 23, 31])\n"
     ]
    }
   ],
   "source": [
    "print('Direct:', torch.add(x,y))"
   ]
  },
  {
   "cell_type": "code",
   "execution_count": 43,
   "id": "79179629",
   "metadata": {},
   "outputs": [
    {
     "name": "stdout",
     "output_type": "stream",
     "text": [
      "Subtract: tensor([5, 5, 5])\n"
     ]
    }
   ],
   "source": [
    "# Subtraction\n",
    "print('Subtract:', x-y)"
   ]
  },
  {
   "cell_type": "code",
   "execution_count": 44,
   "id": "4d21fb23",
   "metadata": {},
   "outputs": [
    {
     "name": "stdout",
     "output_type": "stream",
     "text": [
      "MUL : tensor([ 50, 126, 234])\n"
     ]
    }
   ],
   "source": [
    "# multiplication\n",
    "print('MUL :', x*y)"
   ]
  },
  {
   "cell_type": "code",
   "execution_count": 45,
   "id": "0a10ab06",
   "metadata": {},
   "outputs": [
    {
     "name": "stdout",
     "output_type": "stream",
     "text": [
      "tensor([2.0000, 1.5556, 1.3846])\n"
     ]
    }
   ],
   "source": [
    "#division\n",
    "z=x/y\n",
    "print(z)"
   ]
  },
  {
   "cell_type": "code",
   "execution_count": 46,
   "id": "dfa3905a",
   "metadata": {},
   "outputs": [
    {
     "name": "stdout",
     "output_type": "stream",
     "text": [
      "tensor([1., 1., 1.])\n"
     ]
    }
   ],
   "source": [
    "# --> Whenever we see operation having _ that means they are inplace\n",
    "# Inplace\n",
    "z=torch.ones(3)\n",
    "print(z)"
   ]
  },
  {
   "cell_type": "code",
   "execution_count": 47,
   "id": "ba9350dc",
   "metadata": {},
   "outputs": [
    {
     "data": {
      "text/plain": [
       "tensor([10, 14, 18])"
      ]
     },
     "execution_count": 47,
     "metadata": {},
     "output_type": "execute_result"
    }
   ],
   "source": [
    "x"
   ]
  },
  {
   "cell_type": "code",
   "execution_count": 48,
   "id": "a1d8136f",
   "metadata": {},
   "outputs": [
    {
     "data": {
      "text/plain": [
       "tensor([11., 15., 19.])"
      ]
     },
     "execution_count": 48,
     "metadata": {},
     "output_type": "execute_result"
    }
   ],
   "source": [
    "z.add_(x)"
   ]
  },
  {
   "cell_type": "code",
   "execution_count": 49,
   "id": "9a850872",
   "metadata": {},
   "outputs": [],
   "source": [
    "# way2 inplace\n",
    "z +=x"
   ]
  },
  {
   "cell_type": "code",
   "execution_count": 50,
   "id": "6aece0a3",
   "metadata": {},
   "outputs": [
    {
     "data": {
      "text/plain": [
       "tensor([21., 29., 37.])"
      ]
     },
     "execution_count": 50,
     "metadata": {},
     "output_type": "execute_result"
    }
   ],
   "source": [
    "z"
   ]
  },
  {
   "cell_type": "code",
   "execution_count": 51,
   "id": "dd7b5287",
   "metadata": {},
   "outputs": [
    {
     "name": "stdout",
     "output_type": "stream",
     "text": [
      "tensor([100, 196, 324])\n"
     ]
    }
   ],
   "source": [
    "# power, Exponential\n",
    "z=x.pow(2)\n",
    "print(z)"
   ]
  },
  {
   "cell_type": "code",
   "execution_count": 52,
   "id": "47d6b083",
   "metadata": {},
   "outputs": [
    {
     "data": {
      "text/plain": [
       "tensor([100, 196, 324])"
      ]
     },
     "execution_count": 52,
     "metadata": {},
     "output_type": "execute_result"
    }
   ],
   "source": [
    "z"
   ]
  },
  {
   "cell_type": "code",
   "execution_count": 53,
   "id": "1ecb5c72",
   "metadata": {},
   "outputs": [
    {
     "name": "stdout",
     "output_type": "stream",
     "text": [
      "tensor([100, 196, 324])\n"
     ]
    }
   ],
   "source": [
    "z=x**2\n",
    "print(z)"
   ]
  },
  {
   "cell_type": "code",
   "execution_count": 54,
   "id": "51fcd186",
   "metadata": {},
   "outputs": [
    {
     "name": "stdout",
     "output_type": "stream",
     "text": [
      "tensor([True, True, True])\n"
     ]
    }
   ],
   "source": [
    "# Comparison\n",
    "z=x>0\n",
    "print(z)"
   ]
  },
  {
   "cell_type": "markdown",
   "id": "01814e59",
   "metadata": {},
   "source": [
    "# Matrix Multiplication "
   ]
  },
  {
   "cell_type": "code",
   "execution_count": 55,
   "id": "f1e84ae3",
   "metadata": {},
   "outputs": [
    {
     "name": "stdout",
     "output_type": "stream",
     "text": [
      "tensor([[0.6926, 0.9868, 0.3971, 0.4488, 0.0666],\n",
      "        [0.4658, 0.7878, 0.4612, 0.4798, 0.7404],\n",
      "        [0.3566, 0.8372, 0.2397, 0.4110, 0.5954]])\n"
     ]
    }
   ],
   "source": [
    "x1=torch.rand(size=(3,5))\n",
    "x2=torch.rand(size=(5,3))\n",
    "print(x1)"
   ]
  },
  {
   "cell_type": "code",
   "execution_count": 56,
   "id": "51c08bb6",
   "metadata": {},
   "outputs": [
    {
     "name": "stdout",
     "output_type": "stream",
     "text": [
      "tensor([[0.5620, 0.7469, 0.5353],\n",
      "        [0.4062, 0.7903, 0.3590],\n",
      "        [0.7614, 0.0075, 0.5396],\n",
      "        [0.5145, 0.7942, 0.5731],\n",
      "        [0.8907, 0.8138, 0.2284]])\n"
     ]
    }
   ],
   "source": [
    "print(x2)"
   ]
  },
  {
   "cell_type": "code",
   "execution_count": 57,
   "id": "8e913149",
   "metadata": {},
   "outputs": [
    {
     "data": {
      "text/plain": [
       "tensor([[1.3827, 1.7108, 1.2117],\n",
       "        [1.8394, 1.9576, 1.2251],\n",
       "        [1.4647, 1.7407, 0.9923]])"
      ]
     },
     "execution_count": 57,
     "metadata": {},
     "output_type": "execute_result"
    }
   ],
   "source": [
    "x1@x2"
   ]
  },
  {
   "cell_type": "code",
   "execution_count": 58,
   "id": "0a246918",
   "metadata": {},
   "outputs": [
    {
     "data": {
      "text/plain": [
       "tensor([[1.3827, 1.7108, 1.2117],\n",
       "        [1.8394, 1.9576, 1.2251],\n",
       "        [1.4647, 1.7407, 0.9923]])"
      ]
     },
     "execution_count": 58,
     "metadata": {},
     "output_type": "execute_result"
    }
   ],
   "source": [
    "x1.matmul(x2)"
   ]
  },
  {
   "cell_type": "markdown",
   "id": "82b02604",
   "metadata": {},
   "source": [
    "# Matrix exponential"
   ]
  },
  {
   "cell_type": "code",
   "execution_count": 64,
   "id": "7cb113ab",
   "metadata": {},
   "outputs": [],
   "source": [
    "m1=torch.rand((5,5))\n",
    "#m1.matrix_exp(m1)"
   ]
  },
  {
   "cell_type": "code",
   "execution_count": 65,
   "id": "f166e82d",
   "metadata": {},
   "outputs": [
    {
     "data": {
      "text/plain": [
       "tensor([[0.4800, 0.0222, 0.7870, 0.5627, 0.1582],\n",
       "        [0.9058, 0.8002, 0.5355, 0.3941, 0.3549],\n",
       "        [0.5844, 0.3635, 0.2179, 0.5116, 0.9827],\n",
       "        [0.8300, 0.2613, 0.3675, 0.8447, 0.5469],\n",
       "        [0.5529, 0.2718, 0.7139, 0.3134, 0.6748]])"
      ]
     },
     "execution_count": 65,
     "metadata": {},
     "output_type": "execute_result"
    }
   ],
   "source": [
    "m1"
   ]
  },
  {
   "cell_type": "code",
   "execution_count": 60,
   "id": "581dc46b",
   "metadata": {},
   "outputs": [
    {
     "data": {
      "text/plain": [
       "tensor([[2.3651, 1.6223, 1.2221, 1.7741, 1.1099],\n",
       "        [1.6292, 2.6772, 2.0198, 1.1039, 1.8609],\n",
       "        [1.2903, 1.6056, 2.6096, 0.8472, 0.9892],\n",
       "        [0.6599, 1.0219, 0.9116, 1.4685, 0.5803],\n",
       "        [1.0193, 1.9898, 1.9488, 0.9182, 2.0800]])"
      ]
     },
     "execution_count": 60,
     "metadata": {},
     "output_type": "execute_result"
    }
   ],
   "source": [
    "m1.matrix_exp()"
   ]
  },
  {
   "cell_type": "code",
   "execution_count": 66,
   "id": "0e9ae3c6",
   "metadata": {},
   "outputs": [
    {
     "data": {
      "text/plain": [
       "tensor([[3.2833, 1.4128, 2.8089, 2.7789, 2.7628],\n",
       "        [4.9411, 2.2764, 4.0695, 4.1313, 4.1125],\n",
       "        [4.3195, 1.9642, 3.5791, 3.6329, 3.7664],\n",
       "        [4.6177, 2.0120, 3.8076, 3.9677, 3.9536],\n",
       "        [4.0940, 1.8633, 3.4665, 3.3965, 3.5345]])"
      ]
     },
     "execution_count": 66,
     "metadata": {},
     "output_type": "execute_result"
    }
   ],
   "source": [
    "m1.matrix_power(3)"
   ]
  },
  {
   "cell_type": "markdown",
   "id": "c70a4ddf",
   "metadata": {},
   "source": [
    "# Dot Product \n",
    "1. sum of element wise multiplication"
   ]
  },
  {
   "cell_type": "code",
   "execution_count": 67,
   "id": "f08466f2",
   "metadata": {},
   "outputs": [
    {
     "data": {
      "text/plain": [
       "tensor([10, 14, 18])"
      ]
     },
     "execution_count": 67,
     "metadata": {},
     "output_type": "execute_result"
    }
   ],
   "source": [
    "x"
   ]
  },
  {
   "cell_type": "code",
   "execution_count": 68,
   "id": "77c33c19",
   "metadata": {},
   "outputs": [
    {
     "data": {
      "text/plain": [
       "tensor([ 5,  9, 13])"
      ]
     },
     "execution_count": 68,
     "metadata": {},
     "output_type": "execute_result"
    }
   ],
   "source": [
    "y"
   ]
  },
  {
   "cell_type": "code",
   "execution_count": 69,
   "id": "6dd059dc",
   "metadata": {},
   "outputs": [
    {
     "name": "stdout",
     "output_type": "stream",
     "text": [
      "tensor(410)\n"
     ]
    }
   ],
   "source": [
    "result=torch.dot(x,y)\n",
    "print(result)"
   ]
  },
  {
   "cell_type": "markdown",
   "id": "29a80246",
   "metadata": {},
   "source": [
    "# Batch Matrix Multiplication "
   ]
  },
  {
   "cell_type": "code",
   "execution_count": 72,
   "id": "ea00f3d6",
   "metadata": {},
   "outputs": [
    {
     "name": "stdout",
     "output_type": "stream",
     "text": [
      "M1:  tensor([[[8.7587e-01, 8.9026e-01, 4.5607e-01, 8.5685e-01, 3.1394e-01],\n",
      "         [6.2134e-01, 2.8528e-01, 1.4898e-01, 4.2933e-01, 2.5700e-01],\n",
      "         [4.7855e-01, 3.2789e-01, 9.7852e-01, 3.2964e-01, 9.3895e-01],\n",
      "         [1.8523e-01, 3.6332e-02, 4.9265e-01, 4.8556e-01, 5.4476e-01]],\n",
      "\n",
      "        [[8.2890e-01, 1.0410e-01, 9.5281e-01, 9.7988e-01, 5.2443e-01],\n",
      "         [9.3822e-01, 3.0279e-01, 9.6716e-01, 4.7548e-01, 7.3291e-01],\n",
      "         [5.0817e-01, 3.4428e-01, 8.3357e-01, 7.8833e-01, 5.7969e-01],\n",
      "         [7.3900e-01, 4.2864e-01, 5.2325e-01, 4.2065e-01, 5.5537e-01]],\n",
      "\n",
      "        [[5.7173e-01, 5.0454e-01, 5.6042e-01, 3.0231e-01, 1.9851e-01],\n",
      "         [3.2272e-01, 5.7823e-02, 5.2817e-01, 6.7255e-01, 9.5686e-01],\n",
      "         [9.5883e-01, 7.9568e-01, 5.8060e-01, 6.2959e-03, 8.6803e-01],\n",
      "         [9.4463e-01, 5.1220e-01, 8.1886e-01, 7.4432e-01, 5.9452e-01]],\n",
      "\n",
      "        [[7.0750e-01, 1.9616e-01, 2.2088e-01, 7.9471e-04, 1.5242e-01],\n",
      "         [6.9467e-01, 1.3073e-01, 6.8200e-01, 3.2863e-01, 6.7220e-01],\n",
      "         [2.5841e-01, 9.8211e-01, 9.4650e-01, 5.9788e-01, 4.8921e-01],\n",
      "         [9.5146e-02, 5.1138e-01, 5.1614e-01, 5.9849e-01, 8.9687e-01]],\n",
      "\n",
      "        [[6.1287e-02, 6.9645e-01, 5.8815e-01, 3.6825e-01, 4.7780e-01],\n",
      "         [4.6440e-01, 1.4560e-01, 1.9590e-02, 7.2893e-01, 9.6120e-01],\n",
      "         [1.7547e-01, 6.4531e-01, 6.1540e-01, 3.3112e-01, 1.2650e-01],\n",
      "         [8.4408e-01, 6.2790e-01, 7.3751e-01, 3.5572e-01, 9.3305e-01]]])\n"
     ]
    }
   ],
   "source": [
    "batch=5\n",
    "n=4\n",
    "m=5\n",
    "p=4\n",
    "m1=torch.rand(size=(batch,n,m))\n",
    "m2=torch.rand(size=(batch,m,p))\n",
    "\n",
    "print('M1: ', m1)"
   ]
  },
  {
   "cell_type": "code",
   "execution_count": 73,
   "id": "0355c2e4",
   "metadata": {},
   "outputs": [
    {
     "name": "stdout",
     "output_type": "stream",
     "text": [
      "M2 : tensor([[[0.5435, 0.2757, 0.2216, 0.1705],\n",
      "         [0.5713, 0.9912, 0.0682, 0.2453],\n",
      "         [0.5423, 0.1868, 0.0311, 0.4993],\n",
      "         [0.4309, 0.7937, 0.2834, 0.0345],\n",
      "         [0.4531, 0.6928, 0.8409, 0.7653]],\n",
      "\n",
      "        [[0.9300, 0.5838, 0.4325, 0.8891],\n",
      "         [0.3670, 0.0946, 0.1557, 0.0735],\n",
      "         [0.8090, 0.2926, 0.0125, 0.3835],\n",
      "         [0.1647, 0.0890, 0.8446, 0.2668],\n",
      "         [0.0380, 0.4339, 0.0191, 0.3500]],\n",
      "\n",
      "        [[0.0629, 0.2106, 0.5597, 0.9877],\n",
      "         [0.7330, 0.6240, 0.6013, 0.3153],\n",
      "         [0.1850, 0.8371, 0.6387, 0.5944],\n",
      "         [0.2015, 0.0860, 0.9887, 0.9765],\n",
      "         [0.8871, 0.9363, 0.3200, 0.0563]],\n",
      "\n",
      "        [[0.2451, 0.5681, 0.9460, 0.3776],\n",
      "         [0.1541, 0.1837, 0.4924, 0.2129],\n",
      "         [0.2531, 0.1970, 0.3006, 0.2525],\n",
      "         [0.0474, 0.5597, 0.5656, 0.1196],\n",
      "         [0.3801, 0.5276, 0.3263, 0.5221]],\n",
      "\n",
      "        [[0.4502, 0.8388, 0.2669, 0.0816],\n",
      "         [0.2083, 0.9541, 0.5715, 0.0840],\n",
      "         [0.0868, 0.1667, 0.8247, 0.8849],\n",
      "         [0.3182, 0.2575, 0.4165, 0.1158],\n",
      "         [0.9396, 0.2244, 0.7724, 0.4397]]])\n"
     ]
    }
   ],
   "source": [
    "print('M2 :', m2)"
   ]
  },
  {
   "cell_type": "code",
   "execution_count": 74,
   "id": "44db3337",
   "metadata": {},
   "outputs": [
    {
     "name": "stdout",
     "output_type": "stream",
     "text": [
      "tensor([[[1.7434, 2.1067, 0.7758, 0.8653],\n",
      "         [0.8829, 1.0007, 0.4995, 0.4618],\n",
      "         [1.5456, 1.5518, 1.0418, 1.3806],\n",
      "         [0.8447, 0.9419, 0.6545, 0.7201]],\n",
      "\n",
      "        [[1.7612, 1.0873, 1.2242, 1.5550],\n",
      "         [1.8722, 1.2197, 0.8805, 1.6107],\n",
      "         [1.4251, 0.8948, 0.9607, 1.2100],\n",
      "         [1.3582, 0.9035, 0.7587, 1.1958]],\n",
      "\n",
      "        [[0.7465, 1.1162, 1.3438, 1.3633],\n",
      "         [1.1448, 1.4999, 1.5239, 1.3615],\n",
      "         [1.5223, 1.9977, 1.6699, 1.5980],\n",
      "         [1.2638, 1.8247, 2.2859, 2.3415]],\n",
      "\n",
      "        [[0.3175, 0.5623, 0.8825, 0.4444],\n",
      "         [0.6341, 1.0916, 1.3318, 0.8526],\n",
      "         [0.6685, 1.1065, 1.5104, 0.8726],\n",
      "         [0.6020, 1.0579, 1.1281, 0.8150]],\n",
      "\n",
      "        [[0.7898, 1.0160, 1.4219, 0.8367],\n",
      "         [1.3762, 0.9351, 1.2693, 0.5745],\n",
      "         [0.4910, 0.9791, 1.1588, 0.7070],\n",
      "         [1.5647, 1.7310, 2.0612, 1.2257]]])\n"
     ]
    }
   ],
   "source": [
    "output=torch.bmm(m1,m2)\n",
    "print(output)"
   ]
  },
  {
   "cell_type": "code",
   "execution_count": 75,
   "id": "81e7f9f5",
   "metadata": {},
   "outputs": [
    {
     "data": {
      "text/plain": [
       "torch.Size([5, 4, 4])"
      ]
     },
     "execution_count": 75,
     "metadata": {},
     "output_type": "execute_result"
    }
   ],
   "source": [
    "output.size()"
   ]
  },
  {
   "cell_type": "markdown",
   "id": "458e866a",
   "metadata": {},
   "source": [
    "# Broadcasting"
   ]
  },
  {
   "cell_type": "code",
   "execution_count": 76,
   "id": "5b02a4ad",
   "metadata": {},
   "outputs": [],
   "source": [
    "x1=torch.ones((5,5))\n",
    "x2=torch.ones((1,5))"
   ]
  },
  {
   "cell_type": "code",
   "execution_count": 77,
   "id": "2c9bbda8",
   "metadata": {},
   "outputs": [
    {
     "data": {
      "text/plain": [
       "tensor([[1., 1., 1., 1., 1.],\n",
       "        [1., 1., 1., 1., 1.],\n",
       "        [1., 1., 1., 1., 1.],\n",
       "        [1., 1., 1., 1., 1.],\n",
       "        [1., 1., 1., 1., 1.]])"
      ]
     },
     "execution_count": 77,
     "metadata": {},
     "output_type": "execute_result"
    }
   ],
   "source": [
    "x1"
   ]
  },
  {
   "cell_type": "code",
   "execution_count": 80,
   "id": "fd86712e",
   "metadata": {},
   "outputs": [
    {
     "data": {
      "text/plain": [
       "tensor([[1., 1., 1., 1., 1.]])"
      ]
     },
     "execution_count": 80,
     "metadata": {},
     "output_type": "execute_result"
    }
   ],
   "source": [
    "x2"
   ]
  },
  {
   "cell_type": "code",
   "execution_count": 79,
   "id": "9f9f8002",
   "metadata": {},
   "outputs": [
    {
     "data": {
      "text/plain": [
       "tensor([[0., 0., 0., 0., 0.],\n",
       "        [0., 0., 0., 0., 0.],\n",
       "        [0., 0., 0., 0., 0.],\n",
       "        [0., 0., 0., 0., 0.],\n",
       "        [0., 0., 0., 0., 0.]])"
      ]
     },
     "execution_count": 79,
     "metadata": {},
     "output_type": "execute_result"
    }
   ],
   "source": [
    "x1-x2"
   ]
  },
  {
   "cell_type": "markdown",
   "id": "3e63376d",
   "metadata": {},
   "source": [
    "# Other usefull Tensor Operations "
   ]
  },
  {
   "cell_type": "code",
   "execution_count": 81,
   "id": "f38eb504",
   "metadata": {},
   "outputs": [
    {
     "data": {
      "text/plain": [
       "tensor([[1., 1., 1., 1., 1.],\n",
       "        [1., 1., 1., 1., 1.],\n",
       "        [1., 1., 1., 1., 1.],\n",
       "        [1., 1., 1., 1., 1.],\n",
       "        [1., 1., 1., 1., 1.]])"
      ]
     },
     "execution_count": 81,
     "metadata": {},
     "output_type": "execute_result"
    }
   ],
   "source": [
    "x1=torch.ones((5,5))\n",
    "x1"
   ]
  },
  {
   "cell_type": "code",
   "execution_count": 82,
   "id": "707d906e",
   "metadata": {},
   "outputs": [
    {
     "data": {
      "text/plain": [
       "tensor(25.)"
      ]
     },
     "execution_count": 82,
     "metadata": {},
     "output_type": "execute_result"
    }
   ],
   "source": [
    "torch.sum(x1)"
   ]
  },
  {
   "cell_type": "code",
   "execution_count": 83,
   "id": "c710d315",
   "metadata": {},
   "outputs": [
    {
     "data": {
      "text/plain": [
       "tensor([[0.7806, 0.6723, 0.0637, 0.8535, 0.7117],\n",
       "        [0.0771, 0.0588, 0.3840, 0.5517, 0.3978],\n",
       "        [0.4015, 0.1248, 0.3441, 0.5113, 0.0873],\n",
       "        [0.0642, 0.9303, 0.1086, 0.2264, 0.0057],\n",
       "        [0.4846, 0.0561, 0.2164, 0.2915, 0.9939]])"
      ]
     },
     "execution_count": 83,
     "metadata": {},
     "output_type": "execute_result"
    }
   ],
   "source": [
    "x1=torch.rand((5,5))\n",
    "x1"
   ]
  },
  {
   "cell_type": "code",
   "execution_count": 84,
   "id": "a8e4352c",
   "metadata": {},
   "outputs": [
    {
     "name": "stdout",
     "output_type": "stream",
     "text": [
      "tensor(0.9939)\n"
     ]
    }
   ],
   "source": [
    "print(torch.max(x1))"
   ]
  },
  {
   "cell_type": "code",
   "execution_count": 86,
   "id": "6e0a7499",
   "metadata": {},
   "outputs": [
    {
     "name": "stdout",
     "output_type": "stream",
     "text": [
      "torch.return_types.max(\n",
      "values=tensor([0.8535, 0.5517, 0.5113, 0.9303, 0.9939]),\n",
      "indices=tensor([3, 3, 3, 1, 4]))\n"
     ]
    }
   ],
   "source": [
    "print(torch.max(x1, dim=1))"
   ]
  },
  {
   "cell_type": "code",
   "execution_count": 87,
   "id": "d359d4c8",
   "metadata": {},
   "outputs": [
    {
     "name": "stdout",
     "output_type": "stream",
     "text": [
      "torch.return_types.max(\n",
      "values=tensor([0.7806, 0.9303, 0.3840, 0.8535, 0.9939]),\n",
      "indices=tensor([0, 3, 1, 0, 4]))\n"
     ]
    }
   ],
   "source": [
    "print(torch.max(x1, dim=0))"
   ]
  },
  {
   "cell_type": "code",
   "execution_count": 88,
   "id": "cfaa20b7",
   "metadata": {},
   "outputs": [
    {
     "data": {
      "text/plain": [
       "tensor([[0.7806, 0.6723, 0.0637, 0.8535, 0.7117],\n",
       "        [0.0771, 0.0588, 0.3840, 0.5517, 0.3978],\n",
       "        [0.4015, 0.1248, 0.3441, 0.5113, 0.0873],\n",
       "        [0.0642, 0.9303, 0.1086, 0.2264, 0.0057],\n",
       "        [0.4846, 0.0561, 0.2164, 0.2915, 0.9939]])"
      ]
     },
     "execution_count": 88,
     "metadata": {},
     "output_type": "execute_result"
    }
   ],
   "source": [
    "x1"
   ]
  },
  {
   "cell_type": "code",
   "execution_count": 89,
   "id": "2ff63b08",
   "metadata": {},
   "outputs": [
    {
     "data": {
      "text/plain": [
       "tensor([[0.7806, 0.6723, 0.0637, 0.8535, 0.7117],\n",
       "        [0.0771, 0.0588, 0.3840, 0.5517, 0.3978],\n",
       "        [0.4015, 0.1248, 0.3441, 0.5113, 0.0873],\n",
       "        [0.0642, 0.9303, 0.1086, 0.2264, 0.0057],\n",
       "        [0.4846, 0.0561, 0.2164, 0.2915, 0.9939]])"
      ]
     },
     "execution_count": 89,
     "metadata": {},
     "output_type": "execute_result"
    }
   ],
   "source": [
    "torch.abs(x1)"
   ]
  },
  {
   "cell_type": "code",
   "execution_count": 90,
   "id": "3bc5e0c1",
   "metadata": {},
   "outputs": [
    {
     "data": {
      "text/plain": [
       "tensor(24)"
      ]
     },
     "execution_count": 90,
     "metadata": {},
     "output_type": "execute_result"
    }
   ],
   "source": [
    "torch.argmax(x1)"
   ]
  },
  {
   "cell_type": "code",
   "execution_count": 91,
   "id": "b943b4e0",
   "metadata": {},
   "outputs": [
    {
     "data": {
      "text/plain": [
       "tensor(19)"
      ]
     },
     "execution_count": 91,
     "metadata": {},
     "output_type": "execute_result"
    }
   ],
   "source": [
    "torch.argmin(x1)"
   ]
  },
  {
   "cell_type": "code",
   "execution_count": 92,
   "id": "e047ffe1",
   "metadata": {},
   "outputs": [
    {
     "data": {
      "text/plain": [
       "tensor(0.3759)"
      ]
     },
     "execution_count": 92,
     "metadata": {},
     "output_type": "execute_result"
    }
   ],
   "source": [
    "torch.mean(x1)"
   ]
  },
  {
   "cell_type": "code",
   "execution_count": 93,
   "id": "4f76ad6c",
   "metadata": {},
   "outputs": [
    {
     "data": {
      "text/plain": [
       "tensor([10, 14, 18])"
      ]
     },
     "execution_count": 93,
     "metadata": {},
     "output_type": "execute_result"
    }
   ],
   "source": [
    "x"
   ]
  },
  {
   "cell_type": "code",
   "execution_count": 94,
   "id": "3b46059a",
   "metadata": {},
   "outputs": [
    {
     "data": {
      "text/plain": [
       "tensor([ 5,  9, 13])"
      ]
     },
     "execution_count": 94,
     "metadata": {},
     "output_type": "execute_result"
    }
   ],
   "source": [
    "y"
   ]
  },
  {
   "cell_type": "code",
   "execution_count": 95,
   "id": "ec5a7bd4",
   "metadata": {},
   "outputs": [
    {
     "data": {
      "text/plain": [
       "tensor([False, False, False])"
      ]
     },
     "execution_count": 95,
     "metadata": {},
     "output_type": "execute_result"
    }
   ],
   "source": [
    "torch.eq(x,y)"
   ]
  },
  {
   "cell_type": "code",
   "execution_count": 97,
   "id": "14fc035e",
   "metadata": {},
   "outputs": [
    {
     "data": {
      "text/plain": [
       "torch.return_types.sort(\n",
       "values=tensor([10, 14, 18]),\n",
       "indices=tensor([0, 1, 2]))"
      ]
     },
     "execution_count": 97,
     "metadata": {},
     "output_type": "execute_result"
    }
   ],
   "source": [
    "torch.sort(x)# return sorted  value and indices"
   ]
  },
  {
   "cell_type": "code",
   "execution_count": 98,
   "id": "40f49b27",
   "metadata": {},
   "outputs": [
    {
     "data": {
      "text/plain": [
       "tensor([10, 14, 18])"
      ]
     },
     "execution_count": 98,
     "metadata": {},
     "output_type": "execute_result"
    }
   ],
   "source": [
    "\n",
    "# if values less than zero then it will put that 0\n",
    "torch.clamp(x, min=5)"
   ]
  },
  {
   "cell_type": "code",
   "execution_count": 99,
   "id": "7555fa45",
   "metadata": {},
   "outputs": [
    {
     "data": {
      "text/plain": [
       "tensor([16, 16, 18])"
      ]
     },
     "execution_count": 99,
     "metadata": {},
     "output_type": "execute_result"
    }
   ],
   "source": [
    "torch.clamp(x, min=16)"
   ]
  },
  {
   "cell_type": "code",
   "execution_count": 100,
   "id": "fb87814c",
   "metadata": {},
   "outputs": [
    {
     "data": {
      "text/plain": [
       "tensor(True)"
      ]
     },
     "execution_count": 100,
     "metadata": {},
     "output_type": "execute_result"
    }
   ],
   "source": [
    "torch.any(x)"
   ]
  },
  {
   "cell_type": "code",
   "execution_count": 101,
   "id": "e0e840bf",
   "metadata": {},
   "outputs": [],
   "source": [
    "# Indexing in the tensor \n",
    "\n",
    "batch = 10\n",
    "features = 25\n",
    "x = torch.rand(size=(batch,features))\n",
    "#print(x)\n",
    "# rows , cols\n",
    "# x[start:stop:step,start:stop:step]\n"
   ]
  },
  {
   "cell_type": "code",
   "execution_count": 102,
   "id": "0d96bc51",
   "metadata": {},
   "outputs": [
    {
     "data": {
      "text/plain": [
       "tensor([[5.4374e-01, 9.5240e-01, 5.9565e-01, 1.7934e-01, 8.4439e-01, 6.6913e-01,\n",
       "         4.4267e-01, 2.9546e-02, 2.0731e-01, 6.0494e-01, 3.4192e-01, 7.5752e-01,\n",
       "         6.2964e-01, 7.5387e-02, 5.6603e-01, 2.8902e-01, 1.6801e-01, 7.5207e-01,\n",
       "         1.7540e-01, 6.8936e-01, 3.2543e-01, 6.4934e-01, 9.0053e-01, 4.2326e-01,\n",
       "         5.3212e-01],\n",
       "        [6.5440e-01, 5.4918e-01, 3.3268e-01, 8.0034e-01, 4.0599e-01, 5.6491e-01,\n",
       "         2.0759e-01, 5.2354e-01, 4.3855e-01, 5.6704e-01, 6.3987e-01, 3.0984e-01,\n",
       "         8.9874e-01, 8.5809e-01, 3.4588e-01, 2.3361e-01, 4.7014e-01, 3.6297e-01,\n",
       "         1.2043e-01, 5.5715e-01, 7.8556e-01, 4.3673e-01, 2.4108e-01, 3.5287e-01,\n",
       "         2.9393e-01],\n",
       "        [7.2291e-01, 8.7849e-01, 1.8508e-01, 3.2986e-01, 4.2774e-01, 7.0526e-01,\n",
       "         3.5666e-01, 5.0460e-01, 4.0654e-01, 1.7570e-01, 2.1695e-01, 3.5339e-01,\n",
       "         5.4346e-01, 1.6826e-01, 2.5466e-01, 2.9181e-01, 2.3761e-01, 5.3852e-01,\n",
       "         5.1881e-01, 1.4133e-01, 4.1354e-01, 4.0747e-01, 3.3011e-01, 2.1475e-01,\n",
       "         4.7107e-01],\n",
       "        [9.5855e-01, 8.7789e-01, 1.8829e-01, 1.2367e-01, 3.8609e-01, 7.9674e-01,\n",
       "         3.3599e-01, 2.4160e-01, 7.4751e-01, 2.7016e-01, 9.6545e-02, 1.9307e-01,\n",
       "         8.1360e-01, 6.2355e-01, 6.5075e-02, 8.3791e-01, 9.2055e-01, 5.3552e-01,\n",
       "         5.9083e-01, 8.4937e-05, 2.3289e-01, 7.3143e-01, 2.2089e-01, 3.9219e-01,\n",
       "         7.1198e-01],\n",
       "        [1.3450e-01, 7.6418e-01, 7.2337e-01, 1.5157e-01, 7.6472e-01, 8.9822e-01,\n",
       "         8.3659e-01, 3.5157e-01, 7.8678e-01, 2.5924e-01, 1.7072e-01, 3.4587e-01,\n",
       "         5.4813e-01, 8.1272e-01, 4.6484e-01, 3.3475e-01, 3.0151e-01, 2.9964e-01,\n",
       "         6.4689e-01, 5.5566e-01, 8.4775e-02, 8.7521e-02, 4.2121e-01, 5.1133e-01,\n",
       "         3.4890e-01],\n",
       "        [5.4251e-01, 2.5147e-01, 8.3285e-01, 1.5808e-01, 6.8818e-01, 7.7778e-01,\n",
       "         1.7820e-01, 8.1957e-01, 1.2670e-01, 1.5076e-01, 3.2921e-01, 7.2101e-01,\n",
       "         3.8354e-01, 7.6875e-01, 4.8871e-01, 5.3267e-01, 8.8222e-01, 2.7713e-01,\n",
       "         4.9513e-01, 2.3221e-01, 2.2077e-01, 7.6586e-01, 3.9165e-01, 4.0817e-02,\n",
       "         5.3394e-01],\n",
       "        [3.5077e-01, 3.2812e-01, 7.3758e-01, 9.3634e-01, 2.3427e-01, 1.2932e-01,\n",
       "         4.6395e-01, 6.8436e-01, 1.0637e-01, 3.3737e-01, 6.8874e-01, 1.9305e-01,\n",
       "         3.1146e-03, 7.7726e-03, 8.3507e-01, 8.5368e-01, 1.8150e-02, 7.2472e-01,\n",
       "         3.8944e-01, 8.7724e-01, 4.2588e-01, 5.2630e-01, 8.3079e-01, 8.3263e-02,\n",
       "         6.7450e-01],\n",
       "        [2.7272e-02, 6.7259e-01, 3.7712e-01, 8.5695e-01, 7.2420e-01, 5.6507e-01,\n",
       "         1.1150e-01, 6.2068e-01, 6.1825e-01, 1.6835e-01, 3.7678e-02, 3.9921e-01,\n",
       "         2.9982e-01, 6.5910e-01, 7.8014e-01, 4.0344e-01, 5.0124e-01, 4.0554e-01,\n",
       "         7.3278e-01, 8.8159e-01, 5.3077e-01, 9.4343e-01, 6.0424e-01, 4.7139e-01,\n",
       "         1.6052e-01],\n",
       "        [1.3811e-01, 6.3665e-01, 7.5835e-01, 3.1414e-01, 6.3133e-01, 1.7956e-01,\n",
       "         9.2777e-01, 1.5814e-02, 5.4552e-01, 8.9688e-01, 6.3165e-01, 7.3374e-01,\n",
       "         2.1474e-01, 6.3551e-01, 3.0511e-01, 2.5955e-01, 3.0197e-01, 1.6766e-01,\n",
       "         6.5040e-01, 6.6997e-01, 6.0028e-02, 2.3160e-01, 1.2372e-01, 5.2762e-01,\n",
       "         2.3563e-01],\n",
       "        [7.3819e-01, 3.4201e-01, 4.7818e-01, 6.8269e-01, 2.4917e-01, 7.3453e-01,\n",
       "         2.0516e-01, 1.6117e-01, 9.5151e-01, 2.0424e-01, 9.4073e-01, 2.1284e-01,\n",
       "         3.6431e-01, 4.5550e-02, 7.2677e-01, 7.8918e-01, 8.4008e-01, 1.1656e-01,\n",
       "         5.1591e-01, 1.2338e-02, 5.0319e-01, 7.0023e-02, 8.1192e-01, 9.6228e-01,\n",
       "         6.6344e-01]])"
      ]
     },
     "execution_count": 102,
     "metadata": {},
     "output_type": "execute_result"
    }
   ],
   "source": [
    "x"
   ]
  },
  {
   "cell_type": "code",
   "execution_count": 103,
   "id": "fea904e0",
   "metadata": {},
   "outputs": [
    {
     "name": "stdout",
     "output_type": "stream",
     "text": [
      "tensor([0.3419, 0.7575, 0.6296, 0.0754, 0.5660, 0.2890, 0.1680, 0.7521, 0.1754,\n",
      "        0.6894, 0.3254, 0.6493, 0.9005, 0.4233, 0.5321])\n"
     ]
    }
   ],
   "source": [
    "print(x[0,10:])"
   ]
  },
  {
   "cell_type": "code",
   "execution_count": 104,
   "id": "90ce16fc",
   "metadata": {},
   "outputs": [
    {
     "name": "stdout",
     "output_type": "stream",
     "text": [
      "tensor([0.5437, 0.6544, 0.7229, 0.9585, 0.1345, 0.5425, 0.3508, 0.0273, 0.1381,\n",
      "        0.7382])\n",
      "tensor([[0.5437, 0.9524],\n",
      "        [0.6544, 0.5492]])\n"
     ]
    }
   ],
   "source": [
    "print(x[:,0])\n",
    "print(x[0:2,0:2])\n",
    "x[0,0] = 1000"
   ]
  },
  {
   "cell_type": "code",
   "execution_count": 105,
   "id": "8f595465",
   "metadata": {},
   "outputs": [],
   "source": [
    "x[0,0] = 1000"
   ]
  },
  {
   "cell_type": "code",
   "execution_count": 106,
   "id": "0a1ca5ee",
   "metadata": {},
   "outputs": [
    {
     "data": {
      "text/plain": [
       "tensor([[1.0000e+03, 9.5240e-01, 5.9565e-01, 1.7934e-01, 8.4439e-01, 6.6913e-01,\n",
       "         4.4267e-01, 2.9546e-02, 2.0731e-01, 6.0494e-01, 3.4192e-01, 7.5752e-01,\n",
       "         6.2964e-01, 7.5387e-02, 5.6603e-01, 2.8902e-01, 1.6801e-01, 7.5207e-01,\n",
       "         1.7540e-01, 6.8936e-01, 3.2543e-01, 6.4934e-01, 9.0053e-01, 4.2326e-01,\n",
       "         5.3212e-01],\n",
       "        [6.5440e-01, 5.4918e-01, 3.3268e-01, 8.0034e-01, 4.0599e-01, 5.6491e-01,\n",
       "         2.0759e-01, 5.2354e-01, 4.3855e-01, 5.6704e-01, 6.3987e-01, 3.0984e-01,\n",
       "         8.9874e-01, 8.5809e-01, 3.4588e-01, 2.3361e-01, 4.7014e-01, 3.6297e-01,\n",
       "         1.2043e-01, 5.5715e-01, 7.8556e-01, 4.3673e-01, 2.4108e-01, 3.5287e-01,\n",
       "         2.9393e-01],\n",
       "        [7.2291e-01, 8.7849e-01, 1.8508e-01, 3.2986e-01, 4.2774e-01, 7.0526e-01,\n",
       "         3.5666e-01, 5.0460e-01, 4.0654e-01, 1.7570e-01, 2.1695e-01, 3.5339e-01,\n",
       "         5.4346e-01, 1.6826e-01, 2.5466e-01, 2.9181e-01, 2.3761e-01, 5.3852e-01,\n",
       "         5.1881e-01, 1.4133e-01, 4.1354e-01, 4.0747e-01, 3.3011e-01, 2.1475e-01,\n",
       "         4.7107e-01],\n",
       "        [9.5855e-01, 8.7789e-01, 1.8829e-01, 1.2367e-01, 3.8609e-01, 7.9674e-01,\n",
       "         3.3599e-01, 2.4160e-01, 7.4751e-01, 2.7016e-01, 9.6545e-02, 1.9307e-01,\n",
       "         8.1360e-01, 6.2355e-01, 6.5075e-02, 8.3791e-01, 9.2055e-01, 5.3552e-01,\n",
       "         5.9083e-01, 8.4937e-05, 2.3289e-01, 7.3143e-01, 2.2089e-01, 3.9219e-01,\n",
       "         7.1198e-01],\n",
       "        [1.3450e-01, 7.6418e-01, 7.2337e-01, 1.5157e-01, 7.6472e-01, 8.9822e-01,\n",
       "         8.3659e-01, 3.5157e-01, 7.8678e-01, 2.5924e-01, 1.7072e-01, 3.4587e-01,\n",
       "         5.4813e-01, 8.1272e-01, 4.6484e-01, 3.3475e-01, 3.0151e-01, 2.9964e-01,\n",
       "         6.4689e-01, 5.5566e-01, 8.4775e-02, 8.7521e-02, 4.2121e-01, 5.1133e-01,\n",
       "         3.4890e-01],\n",
       "        [5.4251e-01, 2.5147e-01, 8.3285e-01, 1.5808e-01, 6.8818e-01, 7.7778e-01,\n",
       "         1.7820e-01, 8.1957e-01, 1.2670e-01, 1.5076e-01, 3.2921e-01, 7.2101e-01,\n",
       "         3.8354e-01, 7.6875e-01, 4.8871e-01, 5.3267e-01, 8.8222e-01, 2.7713e-01,\n",
       "         4.9513e-01, 2.3221e-01, 2.2077e-01, 7.6586e-01, 3.9165e-01, 4.0817e-02,\n",
       "         5.3394e-01],\n",
       "        [3.5077e-01, 3.2812e-01, 7.3758e-01, 9.3634e-01, 2.3427e-01, 1.2932e-01,\n",
       "         4.6395e-01, 6.8436e-01, 1.0637e-01, 3.3737e-01, 6.8874e-01, 1.9305e-01,\n",
       "         3.1146e-03, 7.7726e-03, 8.3507e-01, 8.5368e-01, 1.8150e-02, 7.2472e-01,\n",
       "         3.8944e-01, 8.7724e-01, 4.2588e-01, 5.2630e-01, 8.3079e-01, 8.3263e-02,\n",
       "         6.7450e-01],\n",
       "        [2.7272e-02, 6.7259e-01, 3.7712e-01, 8.5695e-01, 7.2420e-01, 5.6507e-01,\n",
       "         1.1150e-01, 6.2068e-01, 6.1825e-01, 1.6835e-01, 3.7678e-02, 3.9921e-01,\n",
       "         2.9982e-01, 6.5910e-01, 7.8014e-01, 4.0344e-01, 5.0124e-01, 4.0554e-01,\n",
       "         7.3278e-01, 8.8159e-01, 5.3077e-01, 9.4343e-01, 6.0424e-01, 4.7139e-01,\n",
       "         1.6052e-01],\n",
       "        [1.3811e-01, 6.3665e-01, 7.5835e-01, 3.1414e-01, 6.3133e-01, 1.7956e-01,\n",
       "         9.2777e-01, 1.5814e-02, 5.4552e-01, 8.9688e-01, 6.3165e-01, 7.3374e-01,\n",
       "         2.1474e-01, 6.3551e-01, 3.0511e-01, 2.5955e-01, 3.0197e-01, 1.6766e-01,\n",
       "         6.5040e-01, 6.6997e-01, 6.0028e-02, 2.3160e-01, 1.2372e-01, 5.2762e-01,\n",
       "         2.3563e-01],\n",
       "        [7.3819e-01, 3.4201e-01, 4.7818e-01, 6.8269e-01, 2.4917e-01, 7.3453e-01,\n",
       "         2.0516e-01, 1.6117e-01, 9.5151e-01, 2.0424e-01, 9.4073e-01, 2.1284e-01,\n",
       "         3.6431e-01, 4.5550e-02, 7.2677e-01, 7.8918e-01, 8.4008e-01, 1.1656e-01,\n",
       "         5.1591e-01, 1.2338e-02, 5.0319e-01, 7.0023e-02, 8.1192e-01, 9.6228e-01,\n",
       "         6.6344e-01]])"
      ]
     },
     "execution_count": 106,
     "metadata": {},
     "output_type": "execute_result"
    }
   ],
   "source": [
    "x"
   ]
  },
  {
   "cell_type": "code",
   "execution_count": 107,
   "id": "ce8e2fb3",
   "metadata": {},
   "outputs": [
    {
     "name": "stdout",
     "output_type": "stream",
     "text": [
      "tensor([1000.])\n"
     ]
    }
   ],
   "source": [
    "print(x[x.remainder(2)==0])"
   ]
  },
  {
   "cell_type": "code",
   "execution_count": 108,
   "id": "4cac4ef6",
   "metadata": {},
   "outputs": [
    {
     "name": "stdout",
     "output_type": "stream",
     "text": [
      "tensor([8.4937e-05, 3.1146e-03, 7.7726e-03, 1.2338e-02, 1.5814e-02])\n",
      "tensor([[1]])\n",
      "2\n",
      "250\n"
     ]
    }
   ],
   "source": [
    "print(x.unique()[:5])\n",
    "print(torch.where(x<5 ,0 , 1 )[:1,:1]) # where x, y\n",
    "print(x.ndimension()) # gives dim\n",
    "print(x.numel())  # count number of elements in x"
   ]
  },
  {
   "cell_type": "markdown",
   "id": "84c576c7",
   "metadata": {},
   "source": [
    "# Reshaping of Tensor"
   ]
  },
  {
   "cell_type": "code",
   "execution_count": 109,
   "id": "e36bc6e2",
   "metadata": {},
   "outputs": [
    {
     "data": {
      "text/plain": [
       "tensor([0, 1, 2, 3, 4, 5, 6, 7, 8])"
      ]
     },
     "execution_count": 109,
     "metadata": {},
     "output_type": "execute_result"
    }
   ],
   "source": [
    "x=torch.arange(9)\n",
    "x"
   ]
  },
  {
   "cell_type": "code",
   "execution_count": 110,
   "id": "d9ddf1a1",
   "metadata": {},
   "outputs": [
    {
     "name": "stdout",
     "output_type": "stream",
     "text": [
      "tensor([[0, 1, 2],\n",
      "        [3, 4, 5],\n",
      "        [6, 7, 8]])\n"
     ]
    }
   ],
   "source": [
    "print(x.view(3,3))"
   ]
  },
  {
   "cell_type": "code",
   "execution_count": 111,
   "id": "7482f750",
   "metadata": {},
   "outputs": [
    {
     "ename": "RuntimeError",
     "evalue": "shape '[2, 3]' is invalid for input of size 9",
     "output_type": "error",
     "traceback": [
      "\u001b[1;31m---------------------------------------------------------------------------\u001b[0m",
      "\u001b[1;31mRuntimeError\u001b[0m                              Traceback (most recent call last)",
      "\u001b[1;32m~\\AppData\\Local\\Temp\\ipykernel_3888\\170998424.py\u001b[0m in \u001b[0;36m<module>\u001b[1;34m\u001b[0m\n\u001b[1;32m----> 1\u001b[1;33m \u001b[0mprint\u001b[0m\u001b[1;33m(\u001b[0m\u001b[0mx\u001b[0m\u001b[1;33m.\u001b[0m\u001b[0mview\u001b[0m\u001b[1;33m(\u001b[0m\u001b[1;36m2\u001b[0m\u001b[1;33m,\u001b[0m\u001b[1;36m3\u001b[0m\u001b[1;33m)\u001b[0m\u001b[1;33m)\u001b[0m\u001b[1;33m\u001b[0m\u001b[1;33m\u001b[0m\u001b[0m\n\u001b[0m",
      "\u001b[1;31mRuntimeError\u001b[0m: shape '[2, 3]' is invalid for input of size 9"
     ]
    }
   ],
   "source": [
    "print(x.view(2,3))"
   ]
  },
  {
   "cell_type": "code",
   "execution_count": 112,
   "id": "e38e97b2",
   "metadata": {},
   "outputs": [
    {
     "name": "stdout",
     "output_type": "stream",
     "text": [
      "tensor([[0, 1, 2],\n",
      "        [3, 4, 5],\n",
      "        [6, 7, 8]])\n"
     ]
    }
   ],
   "source": [
    "print(x.reshape(3,3))"
   ]
  },
  {
   "cell_type": "code",
   "execution_count": 113,
   "id": "2d621054",
   "metadata": {},
   "outputs": [
    {
     "ename": "RuntimeError",
     "evalue": "shape '[3, 4]' is invalid for input of size 9",
     "output_type": "error",
     "traceback": [
      "\u001b[1;31m---------------------------------------------------------------------------\u001b[0m",
      "\u001b[1;31mRuntimeError\u001b[0m                              Traceback (most recent call last)",
      "\u001b[1;32m~\\AppData\\Local\\Temp\\ipykernel_3888\\3555645828.py\u001b[0m in \u001b[0;36m<module>\u001b[1;34m\u001b[0m\n\u001b[1;32m----> 1\u001b[1;33m \u001b[0mprint\u001b[0m\u001b[1;33m(\u001b[0m\u001b[0mx\u001b[0m\u001b[1;33m.\u001b[0m\u001b[0mreshape\u001b[0m\u001b[1;33m(\u001b[0m\u001b[1;36m3\u001b[0m\u001b[1;33m,\u001b[0m\u001b[1;36m4\u001b[0m\u001b[1;33m)\u001b[0m\u001b[1;33m)\u001b[0m\u001b[1;33m\u001b[0m\u001b[1;33m\u001b[0m\u001b[0m\n\u001b[0m",
      "\u001b[1;31mRuntimeError\u001b[0m: shape '[3, 4]' is invalid for input of size 9"
     ]
    }
   ],
   "source": [
    "print(x.reshape(3,4))"
   ]
  },
  {
   "cell_type": "code",
   "execution_count": 114,
   "id": "dcb7da96",
   "metadata": {},
   "outputs": [
    {
     "name": "stdout",
     "output_type": "stream",
     "text": [
      "tensor([[0, 3, 6],\n",
      "        [1, 4, 7],\n",
      "        [2, 5, 8]])\n"
     ]
    }
   ],
   "source": [
    "print(x.reshape(3,3).t())"
   ]
  },
  {
   "cell_type": "code",
   "execution_count": 116,
   "id": "12445f95",
   "metadata": {},
   "outputs": [
    {
     "name": "stdout",
     "output_type": "stream",
     "text": [
      "tensor([[0.6575, 0.7540, 0.9513, 0.5324, 0.0151],\n",
      "        [0.9102, 0.5730, 0.0880, 0.9706, 0.3857]])\n",
      "tensor([[0.6673, 0.4930, 0.7238, 0.5104, 0.3345],\n",
      "        [0.8509, 0.9247, 0.7715, 0.8331, 0.6273]])\n",
      "tensor([[0.6575, 0.7540, 0.9513, 0.5324, 0.0151, 0.6673, 0.4930, 0.7238, 0.5104,\n",
      "         0.3345],\n",
      "        [0.9102, 0.5730, 0.0880, 0.9706, 0.3857, 0.8509, 0.9247, 0.7715, 0.8331,\n",
      "         0.6273]])\n"
     ]
    }
   ],
   "source": [
    "# concatination\n",
    "x1 = torch.rand((2,5))\n",
    "x2 = torch.rand((2,5))\n",
    "print(x1)\n",
    "print(x2)\n",
    "print(torch.cat((x1,x2),dim=1)) # dim 0  add rows , dim 1 add cols \n"
   ]
  },
  {
   "cell_type": "code",
   "execution_count": 117,
   "id": "67bf7d2d",
   "metadata": {},
   "outputs": [
    {
     "name": "stdout",
     "output_type": "stream",
     "text": [
      "torch.Size([2, 5])\n"
     ]
    }
   ],
   "source": [
    "\n",
    "# Flatten tensor\n",
    "print(x1.shape)"
   ]
  },
  {
   "cell_type": "code",
   "execution_count": 118,
   "id": "ad1f7a0a",
   "metadata": {},
   "outputs": [
    {
     "data": {
      "text/plain": [
       "torch.Size([10])"
      ]
     },
     "execution_count": 118,
     "metadata": {},
     "output_type": "execute_result"
    }
   ],
   "source": [
    "x1.view(-1).shape"
   ]
  },
  {
   "cell_type": "code",
   "execution_count": 121,
   "id": "d3c593f6",
   "metadata": {},
   "outputs": [
    {
     "data": {
      "text/plain": [
       "tensor([[[0.9619, 0.6235, 0.6701, 0.2437, 0.8583],\n",
       "         [0.5519, 0.5553, 0.6195, 0.6012, 0.2177]],\n",
       "\n",
       "        [[0.4077, 0.9550, 0.0617, 0.7842, 0.5291],\n",
       "         [0.8705, 0.0331, 0.5257, 0.9123, 0.6161]],\n",
       "\n",
       "        [[0.0369, 0.7165, 0.9513, 0.5589, 0.2209],\n",
       "         [0.4556, 0.7869, 0.9084, 0.3874, 0.3677]],\n",
       "\n",
       "        [[0.5807, 0.1357, 0.4599, 0.1528, 0.0678],\n",
       "         [0.2486, 0.3409, 0.3388, 0.2562, 0.3589]],\n",
       "\n",
       "        [[0.1976, 0.7038, 0.9123, 0.4430, 0.0162],\n",
       "         [0.6794, 0.9484, 0.0364, 0.8935, 0.0348]],\n",
       "\n",
       "        [[0.1524, 0.1166, 0.0622, 0.1812, 0.8789],\n",
       "         [0.2395, 0.3729, 0.6721, 0.2791, 0.8015]],\n",
       "\n",
       "        [[0.6124, 0.8413, 0.6716, 0.8020, 0.4056],\n",
       "         [0.6044, 0.1572, 0.7252, 0.5515, 0.4423]],\n",
       "\n",
       "        [[0.8415, 0.7839, 0.1748, 0.0019, 0.8651],\n",
       "         [0.0917, 0.5126, 0.5483, 0.6293, 0.0369]],\n",
       "\n",
       "        [[0.4243, 0.8525, 0.8946, 0.6858, 0.4930],\n",
       "         [0.0038, 0.7037, 0.2071, 0.9790, 0.4854]],\n",
       "\n",
       "        [[0.7650, 0.9550, 0.7371, 0.1750, 0.9760],\n",
       "         [0.1445, 0.6777, 0.3342, 0.6659, 0.4555]],\n",
       "\n",
       "        [[0.9273, 0.3324, 0.3138, 0.2191, 0.6228],\n",
       "         [0.7965, 0.9080, 0.3704, 0.2238, 0.5479]],\n",
       "\n",
       "        [[0.5025, 0.6141, 0.6002, 0.6182, 0.8502],\n",
       "         [0.0229, 0.5515, 0.0460, 0.7738, 0.0666]],\n",
       "\n",
       "        [[0.8125, 0.7125, 0.8721, 0.5887, 0.1753],\n",
       "         [0.9858, 0.5544, 0.1188, 0.6884, 0.2701]],\n",
       "\n",
       "        [[0.9880, 0.6948, 0.2573, 0.3176, 0.7685],\n",
       "         [0.5422, 0.8205, 0.4159, 0.6281, 0.7677]],\n",
       "\n",
       "        [[0.0923, 0.5784, 0.9401, 0.4606, 0.9167],\n",
       "         [0.8894, 0.0149, 0.0803, 0.4956, 0.5257]],\n",
       "\n",
       "        [[0.3667, 0.2469, 0.2866, 0.5755, 0.8286],\n",
       "         [0.7875, 0.0886, 0.7715, 0.8577, 0.4413]]])"
      ]
     },
     "execution_count": 121,
     "metadata": {},
     "output_type": "execute_result"
    }
   ],
   "source": [
    "# batch Flatten\n",
    "batch = 16\n",
    "torch.rand((batch,2,5))\n",
    "#torch.rand((batch,2,5)).view((batch,-1))\n",
    "\n"
   ]
  },
  {
   "cell_type": "code",
   "execution_count": 122,
   "id": "1e5cee43",
   "metadata": {},
   "outputs": [
    {
     "data": {
      "text/plain": [
       "tensor([[7.3786e-01, 1.2055e-01, 5.0100e-01, 3.6275e-04, 2.6172e-01, 8.2070e-01,\n",
       "         3.1268e-02, 9.3699e-01, 5.0705e-01, 3.4455e-01],\n",
       "        [1.4931e-01, 7.9193e-01, 4.3256e-01, 9.2831e-02, 7.6608e-01, 3.9574e-01,\n",
       "         8.8301e-01, 3.7670e-01, 8.8690e-01, 9.1231e-01],\n",
       "        [7.5499e-01, 1.0451e-02, 9.9383e-01, 2.5265e-01, 2.0979e-01, 1.3917e-02,\n",
       "         7.2844e-01, 7.9048e-01, 5.5016e-01, 4.3900e-01],\n",
       "        [9.3710e-01, 7.8900e-01, 1.4418e-01, 9.3906e-01, 6.3726e-01, 5.0218e-01,\n",
       "         7.3002e-02, 8.9518e-01, 9.7175e-01, 5.6688e-02],\n",
       "        [6.4922e-01, 7.7185e-02, 7.1840e-03, 5.1550e-01, 3.2623e-01, 3.9496e-01,\n",
       "         5.4715e-01, 6.0403e-01, 8.3112e-01, 8.0405e-01],\n",
       "        [9.6380e-01, 5.8242e-01, 3.2450e-01, 2.3425e-01, 1.7426e-01, 6.1250e-01,\n",
       "         5.6868e-01, 3.6447e-01, 5.9561e-01, 3.1857e-01],\n",
       "        [2.4766e-01, 8.7184e-01, 5.6102e-02, 6.3962e-01, 7.0350e-02, 4.0299e-01,\n",
       "         4.0724e-01, 3.7559e-01, 7.7357e-01, 1.7266e-01],\n",
       "        [6.6067e-01, 2.9919e-01, 9.6061e-01, 1.7276e-01, 3.3587e-01, 4.7724e-01,\n",
       "         3.8329e-01, 8.5363e-01, 8.1228e-01, 5.9363e-01],\n",
       "        [1.0796e-02, 2.9244e-01, 1.5855e-01, 9.1085e-01, 1.1840e-01, 6.9436e-01,\n",
       "         6.8470e-01, 7.3468e-01, 1.4403e-01, 1.1914e-01],\n",
       "        [9.7900e-01, 7.8549e-02, 2.4996e-01, 2.9370e-01, 8.6849e-01, 2.0962e-01,\n",
       "         9.4187e-01, 6.4677e-01, 3.8359e-01, 4.7511e-01],\n",
       "        [7.3988e-01, 2.4022e-01, 8.3586e-01, 7.6709e-01, 4.7432e-02, 1.3020e-01,\n",
       "         7.5062e-01, 3.8179e-01, 3.1792e-01, 9.4575e-01],\n",
       "        [3.5218e-01, 9.5848e-01, 6.7247e-01, 3.8521e-01, 2.0720e-01, 9.0201e-01,\n",
       "         1.8101e-01, 3.8234e-01, 1.6286e-01, 1.7819e-01],\n",
       "        [5.2653e-01, 3.2593e-01, 6.4908e-01, 5.0428e-01, 7.0897e-02, 6.7056e-01,\n",
       "         3.9826e-01, 4.4702e-01, 4.1467e-01, 8.3409e-01],\n",
       "        [8.6487e-01, 1.8490e-01, 8.7492e-01, 8.3446e-01, 2.2059e-01, 6.8444e-01,\n",
       "         6.2820e-01, 8.0042e-02, 9.7029e-02, 3.1073e-02],\n",
       "        [7.8967e-01, 6.1996e-01, 9.5898e-01, 8.4821e-01, 9.9228e-01, 8.1033e-01,\n",
       "         9.5001e-01, 4.2306e-01, 3.7842e-02, 3.9455e-01],\n",
       "        [9.0984e-01, 1.1397e-01, 5.8330e-01, 1.3725e-01, 7.4552e-01, 2.0378e-01,\n",
       "         8.9956e-01, 6.2767e-01, 7.7690e-01, 8.1167e-01]])"
      ]
     },
     "execution_count": 122,
     "metadata": {},
     "output_type": "execute_result"
    }
   ],
   "source": [
    "torch.rand((batch,2,5)).view((batch,-1))"
   ]
  },
  {
   "cell_type": "code",
   "execution_count": 123,
   "id": "c326828a",
   "metadata": {},
   "outputs": [
    {
     "data": {
      "text/plain": [
       "tensor([[0.6575, 0.7540, 0.9513, 0.5324, 0.0151],\n",
       "        [0.9102, 0.5730, 0.0880, 0.9706, 0.3857]])"
      ]
     },
     "execution_count": 123,
     "metadata": {},
     "output_type": "execute_result"
    }
   ],
   "source": [
    "x1"
   ]
  },
  {
   "cell_type": "code",
   "execution_count": 124,
   "id": "de9ee223",
   "metadata": {},
   "outputs": [
    {
     "data": {
      "text/plain": [
       "tensor([[0.6575, 0.9102],\n",
       "        [0.7540, 0.5730],\n",
       "        [0.9513, 0.0880],\n",
       "        [0.5324, 0.9706],\n",
       "        [0.0151, 0.3857]])"
      ]
     },
     "execution_count": 124,
     "metadata": {},
     "output_type": "execute_result"
    }
   ],
   "source": [
    "# Reshape manually \n",
    "x1.permute(1,0)  # index position of dimen"
   ]
  },
  {
   "cell_type": "code",
   "execution_count": 125,
   "id": "35e3024f",
   "metadata": {},
   "outputs": [
    {
     "data": {
      "text/plain": [
       "tensor([[0.6575, 0.7540, 0.9513, 0.5324, 0.0151],\n",
       "        [0.9102, 0.5730, 0.0880, 0.9706, 0.3857]])"
      ]
     },
     "execution_count": 125,
     "metadata": {},
     "output_type": "execute_result"
    }
   ],
   "source": [
    "x1.permute(0,1)"
   ]
  },
  {
   "cell_type": "code",
   "execution_count": 126,
   "id": "d65682b7",
   "metadata": {},
   "outputs": [
    {
     "data": {
      "text/plain": [
       "tensor([[[ 1.1862, -0.6017, -0.5638,  0.2152,  0.8167],\n",
       "         [-0.4987,  1.3854, -1.5437,  0.1715,  0.3572],\n",
       "         [ 1.0007,  0.0071,  0.4846,  0.9178, -0.3341]],\n",
       "\n",
       "        [[-1.2471,  0.9155, -0.2159, -0.3839, -0.5085],\n",
       "         [ 0.7519, -0.7713, -1.8623,  1.2070,  0.7447],\n",
       "         [ 0.1038,  1.0026,  1.2683, -0.9088, -0.1489]]])"
      ]
     },
     "execution_count": 126,
     "metadata": {},
     "output_type": "execute_result"
    }
   ],
   "source": [
    "x = torch.randn(2, 3, 5)\n",
    "x"
   ]
  },
  {
   "cell_type": "code",
   "execution_count": 127,
   "id": "1b140b82",
   "metadata": {},
   "outputs": [
    {
     "data": {
      "text/plain": [
       "torch.Size([2, 3, 5])"
      ]
     },
     "execution_count": 127,
     "metadata": {},
     "output_type": "execute_result"
    }
   ],
   "source": [
    "x.size()"
   ]
  },
  {
   "cell_type": "code",
   "execution_count": 128,
   "id": "98b9f2a9",
   "metadata": {},
   "outputs": [
    {
     "data": {
      "text/plain": [
       "tensor([[[ 1.1862, -0.4987,  1.0007],\n",
       "         [-1.2471,  0.7519,  0.1038]],\n",
       "\n",
       "        [[-0.6017,  1.3854,  0.0071],\n",
       "         [ 0.9155, -0.7713,  1.0026]],\n",
       "\n",
       "        [[-0.5638, -1.5437,  0.4846],\n",
       "         [-0.2159, -1.8623,  1.2683]],\n",
       "\n",
       "        [[ 0.2152,  0.1715,  0.9178],\n",
       "         [-0.3839,  1.2070, -0.9088]],\n",
       "\n",
       "        [[ 0.8167,  0.3572, -0.3341],\n",
       "         [-0.5085,  0.7447, -0.1489]]])"
      ]
     },
     "execution_count": 128,
     "metadata": {},
     "output_type": "execute_result"
    }
   ],
   "source": [
    "torch.permute(x,(2,0,1))"
   ]
  },
  {
   "cell_type": "code",
   "execution_count": 129,
   "id": "b18daa4d",
   "metadata": {},
   "outputs": [
    {
     "data": {
      "text/plain": [
       "torch.Size([5, 2, 3])"
      ]
     },
     "execution_count": 129,
     "metadata": {},
     "output_type": "execute_result"
    }
   ],
   "source": [
    "torch.permute(x,(2,0,1)).size()"
   ]
  },
  {
   "cell_type": "code",
   "execution_count": null,
   "id": "187bf302",
   "metadata": {},
   "outputs": [],
   "source": []
  }
 ],
 "metadata": {
  "kernelspec": {
   "display_name": "Python 3 (ipykernel)",
   "language": "python",
   "name": "python3"
  },
  "language_info": {
   "codemirror_mode": {
    "name": "ipython",
    "version": 3
   },
   "file_extension": ".py",
   "mimetype": "text/x-python",
   "name": "python",
   "nbconvert_exporter": "python",
   "pygments_lexer": "ipython3",
   "version": "3.7.13"
  }
 },
 "nbformat": 4,
 "nbformat_minor": 5
}
